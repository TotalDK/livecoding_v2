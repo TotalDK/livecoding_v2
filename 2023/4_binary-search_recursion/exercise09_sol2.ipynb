{
 "cells": [
  {
   "cell_type": "markdown",
   "metadata": {},
   "source": [
    "# Exercise 09\n",
    "\n",
    "* Task 1: `conda` from the command line; managing environments with conda; and installing `beautifulsoup4` (we will need it next time!)\n",
    "* Task 2: Implementing a binary search algorithm\n",
    "* Task 3: Improving the efficiency of a recursive Fibonacci function with \"caching\""
   ]
  },
  {
   "cell_type": "markdown",
   "metadata": {},
   "source": [
    "# Task 1: Getting familiar with `conda` & managing coding environments\n",
    "\n",
    "Check out the [documentation](https://docs.conda.io/projects/conda/en/stable/user-guide/tasks/manage-environments.html) for managing environments with `conda`; you will find all the commands you need for this task on that website!\n",
    "\n",
    "#### Step 1: Using conda from the CLI\n",
    "\n",
    "1. Navigate to your CLI (Windows: Anaconda Prompt; macOS/linux: Terminal)\n",
    "2. Run (i.e. type-and-press-enter) just `conda`; this will show you a list of available conda commands (build, clean, compare, ...) In this exercise, we only need the following commands: `conda list`; `conda env`; `conda install`; `conda remove`\n",
    "3. Run `conda list`; this will show you a list of packages available in your base (coding) environment. Check whether the following packages are in the list:\n",
    "    * `ipykernel`\n",
    "    * `matplotlib`\n",
    "    * `pandas`\n",
    "    * `requests`\n",
    "\n",
    "#### Step 2: Managing environments\n",
    "\n",
    "4. Now run `conda env list`; this will show you a list of available **environments**, and their locations on your machine. You should see at least 1 environment, with the name \"base\". Let's add a new environment!\n",
    "5. Run `conda create --name empty_env`; this will **create** an **environment** with the name **empty_env**. When conda asks you to confirm proceed, press `Y` to confirm.\n",
    "6. Run `conda env list` once more - now `empty_env` should be on the list of environments as well!\n",
    "7. Run `conda activate empty_env` - this activates the environment.\n",
    "8. Run `conda list`; which, if any, packages are available in your new environment?\n",
    "9. Run `conda deactivate` - this brings you back to your base environment. Let's remove the empty_env:\n",
    "10. Run `conda remove --name empty_env --all` - this will remove the empty_env; then run `conda list` again to check if the environment has been successfully removed.\n",
    "11. Now let's create a more interesting environment - one that has the packages `ipykernel`, `matplotlib`, `pandas`, `requests`. For this, run (the syntax here is: `conda create --name <environmentname> <list of packages to add>`):\n",
    "\n",
    "```\n",
    "conda create --name idsp_env ipykernel matplotlib pandas requests\n",
    "```\n",
    "\n",
    "This will create an environment called `idsp_env`, containing the packages listed above. You can use the `conda env list` command once more to check whether the environment has been created.\n",
    "\n",
    "#### Step 3: Installing packages in an existing environment\n",
    "\n",
    "12. Activate your environment: `conda activate idsp_env`\n",
    "13. Which packages are available there? `conda list` (Why so many? Are the ones you explicitly installed there?)\n",
    "\n",
    "Now, we want to add one more package to our `idsp_env` environment. The way to do it with conda is: `conda install <packagename>`. The package will be installed to the environment that you have currently activated. The package we want to install is called [`beautifulsoup4`](https://www.crummy.com/software/BeautifulSoup/bs4/doc/); we will use it during the next lecture for getting text out of websites (\"webscraping\"). Make sure that `idsp_env` is activated, then run:\n",
    "\n",
    "14. `conda install beautifulsoup4` (if installation fails with conda, try to run `pip install beautifulsoup4` instead)\n",
    "15. Make sure that you managed to install `beautifulsoup4` within `idsp_env` by running `conda list` one more time\n",
    "16. Now you can deactivate `idsp_env` by running `conda deactivate`."
   ]
  },
  {
   "cell_type": "markdown",
   "metadata": {},
   "source": [
    "# Task 2: `binary_search`\n",
    "\n",
    "Write a function `binary_search` that:\n",
    "* takes two input arguments: an **already sorted** list of numbers; and a **number**\n",
    "* returns `True` or `False`, depending on whether the number is on the list or not\n",
    "* implements a **binary search algorithm** (\"cutting the search space in half at each step\") to find out whether the number is on the list\n",
    "\n",
    "If you need some inspiration on how to approach this task, check out **Chapter 8  - Friday: Writing a Binary Search** from the book [**Python Projects for Beginners**](https://learnit.itu.dk/pluginfile.php/356837/mod_page/content/8/PythonProjectsForBeginners.pdf) (the PDF is available for download on the [Self-study resources page in learnIT](https://learnit.itu.dk/mod/page/view.php?id=185265)). \n"
   ]
  },
  {
   "cell_type": "code",
   "execution_count": 35,
   "metadata": {},
   "outputs": [],
   "source": [
    "def binary_search(l, n):\n",
    "    \n",
    "    start = 0\n",
    "    end = len(l) - 1\n",
    "    \n",
    "    while start <= end:\n",
    "        \n",
    "        mid = (start + end) // 2\n",
    "        \n",
    "        if l[mid] == n:\n",
    "            return True\n",
    "        elif l[mid] < n:\n",
    "            start = mid + 1\n",
    "        else:\n",
    "            end = mid - 1\n",
    "            \n",
    "    return False"
   ]
  },
  {
   "cell_type": "code",
   "execution_count": 37,
   "metadata": {},
   "outputs": [
    {
     "data": {
      "text/plain": [
       "True"
      ]
     },
     "execution_count": 37,
     "metadata": {},
     "output_type": "execute_result"
    }
   ],
   "source": [
    "l = [1,2,3,4,5,6,8,12]\n",
    "num = 5\n",
    "\n",
    "binary_search(l, num)"
   ]
  },
  {
   "cell_type": "markdown",
   "metadata": {},
   "source": [
    "# Task 3: Recursive Fibonacci with memory caching\n",
    "\n",
    "In the lecture, we got familiar with the recursive [Fibonacci sequence](https://en.wikipedia.org/wiki/Fibonacci_sequence) (where each number is the sum of the preceeding two numbers). Below, we have already implemented a recursive function, `fib(n)`, that returns the n-th element of the Fibonacci sequence. \n",
    "\n",
    "Try to compute `fib(42)`; you will notice it takes a long time to compute (since the recursive function recomputes values `fib(n)` an exponential amount of times).\n",
    "\n",
    "Try to improve the performance of this function by implementing a new function, `fib_cache(n)`, which does exactly the same as `fib(n)`, but in addition uses a \"memory cache\" (in our case, a simple dictionary, defined OUTSIDE the function), where it stores all already computed values as key-value pairs (keys: `n`; values: `fib(n)`); and at each function call, does NOT recompute fib(n) for all n, but instead FIRST looks up the values the \"memory cache\" (the dictionary).\n",
    "\n",
    "Then, try to recompute the Fibonacci sequence for 42 by running `fib_cache(42)`; did the performance improve? Why? Do `fib(42)` and `fib_cache(42)` return the same results? And what is now inside the `memo_dict` dictionary?\n",
    "\n",
    "If you need some inspiration on how to approach this task, check out **Chapter 8  - Thursday, subchapters \"Understanding memoization\" and \"Using memoization\"** from the book [**Python Projects for Beginners**](https://learnit.itu.dk/pluginfile.php/356837/mod_page/content/8/PythonProjectsForBeginners.pdf) (the PDF is available for download on the [Self-study resources page in learnIT](https://learnit.itu.dk/mod/page/view.php?id=185265)). \n"
   ]
  },
  {
   "cell_type": "code",
   "execution_count": 24,
   "metadata": {},
   "outputs": [],
   "source": [
    "# run this cell to define the simple fib(n) function (WITHOUT memory cache)\n",
    "def fib(n):\n",
    "    # base case:\n",
    "    if n == 1:\n",
    "        return 1\n",
    "    elif n == 0:\n",
    "        return 0\n",
    "    else:\n",
    "        return fib(n-1) + fib(n-2)"
   ]
  },
  {
   "cell_type": "code",
   "execution_count": null,
   "metadata": {
    "scrolled": false
   },
   "outputs": [],
   "source": [
    "# try to compute fib(40)\n",
    "fib(42)"
   ]
  },
  {
   "cell_type": "code",
   "execution_count": 28,
   "metadata": {},
   "outputs": [],
   "source": [
    "# implement a function WITH memory cache\n",
    "\n",
    "# initialize an empty dictionary, will be used for \"caching\" the already computed fib(n) values\n",
    "memo_dict = {}\n",
    "\n",
    "def fib_cache(n):\n",
    "    \n",
    "    # IF fib(n) has already been calculated,\n",
    "    # look no further, just return its value\n",
    "    # (look up the value in memo_dict)\n",
    "    if n in memo_dict:\n",
    "        return memo_dict[n]\n",
    "\n",
    "    # ELSE, ... (now comes the fib(n) function)\n",
    "    if n == 1:\n",
    "        return 1\n",
    "    elif n == 0:\n",
    "        return 0\n",
    "    else:\n",
    "        curr = fib_cache(n-1) + fib_cache(n-2)\n",
    "        memo_dict[n] = curr\n",
    "        return curr\n",
    "\n",
    "    # THEN, save fibonacci number computed at this step \n",
    "    # as value to the memo_dict"
   ]
  },
  {
   "cell_type": "code",
   "execution_count": 32,
   "metadata": {},
   "outputs": [
    {
     "data": {
      "text/plain": [
       "267914296"
      ]
     },
     "execution_count": 32,
     "metadata": {},
     "output_type": "execute_result"
    }
   ],
   "source": [
    "# compute fib_cache(42), did perfomance improve?\n",
    "fib_cache(42)"
   ]
  },
  {
   "cell_type": "code",
   "execution_count": 33,
   "metadata": {},
   "outputs": [
    {
     "data": {
      "text/plain": [
       "True"
      ]
     },
     "execution_count": 33,
     "metadata": {},
     "output_type": "execute_result"
    }
   ],
   "source": [
    "# does fib(42) and fib_cache(42) return the same result?\n",
    "fib(42) == fib_cache(42)"
   ]
  },
  {
   "cell_type": "code",
   "execution_count": 34,
   "metadata": {},
   "outputs": [
    {
     "data": {
      "text/plain": [
       "{2: 1,\n",
       " 3: 2,\n",
       " 4: 3,\n",
       " 5: 5,\n",
       " 6: 8,\n",
       " 7: 13,\n",
       " 8: 21,\n",
       " 9: 34,\n",
       " 10: 55,\n",
       " 11: 89,\n",
       " 12: 144,\n",
       " 13: 233,\n",
       " 14: 377,\n",
       " 15: 610,\n",
       " 16: 987,\n",
       " 17: 1597,\n",
       " 18: 2584,\n",
       " 19: 4181,\n",
       " 20: 6765,\n",
       " 21: 10946,\n",
       " 22: 17711,\n",
       " 23: 28657,\n",
       " 24: 46368,\n",
       " 25: 75025,\n",
       " 26: 121393,\n",
       " 27: 196418,\n",
       " 28: 317811,\n",
       " 29: 514229,\n",
       " 30: 832040,\n",
       " 31: 1346269,\n",
       " 32: 2178309,\n",
       " 33: 3524578,\n",
       " 34: 5702887,\n",
       " 35: 9227465,\n",
       " 36: 14930352,\n",
       " 37: 24157817,\n",
       " 38: 39088169,\n",
       " 39: 63245986,\n",
       " 40: 102334155,\n",
       " 41: 165580141,\n",
       " 42: 267914296}"
      ]
     },
     "execution_count": 34,
     "metadata": {},
     "output_type": "execute_result"
    }
   ],
   "source": [
    "# what is inside the memo_dict dictionary?\n",
    "memo_dict"
   ]
  }
 ],
 "metadata": {
  "kernelspec": {
   "display_name": "Python 3 (ipykernel)",
   "language": "python",
   "name": "python3"
  },
  "language_info": {
   "codemirror_mode": {
    "name": "ipython",
    "version": 3
   },
   "file_extension": ".py",
   "mimetype": "text/x-python",
   "name": "python",
   "nbconvert_exporter": "python",
   "pygments_lexer": "ipython3",
   "version": "3.9.13"
  }
 },
 "nbformat": 4,
 "nbformat_minor": 2
}
