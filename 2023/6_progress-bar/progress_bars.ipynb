{
 "cells": [
  {
   "cell_type": "code",
   "execution_count": 54,
   "metadata": {},
   "outputs": [],
   "source": [
    "from time import sleep\n",
    "from tqdm.notebook import tqdm"
   ]
  },
  {
   "cell_type": "code",
   "execution_count": 9,
   "metadata": {},
   "outputs": [
    {
     "name": "stdout",
     "output_type": "stream",
     "text": [
      "0\n",
      "1\n",
      "2\n",
      "3\n",
      "4\n",
      "5\n",
      "6\n",
      "7\n",
      "8\n",
      "9\n"
     ]
    }
   ],
   "source": [
    "for i in range(10):\n",
    "    print(i)\n",
    "    sleep(1) #Something that takes a long time"
   ]
  },
  {
   "cell_type": "code",
   "execution_count": 10,
   "metadata": {},
   "outputs": [
    {
     "data": {
      "application/vnd.jupyter.widget-view+json": {
       "model_id": "97cdaae843db4e30a2d0e9e11311f697",
       "version_major": 2,
       "version_minor": 0
      },
      "text/plain": [
       "  0%|          | 0/10 [00:00<?, ?it/s]"
      ]
     },
     "metadata": {},
     "output_type": "display_data"
    },
    {
     "name": "stdout",
     "output_type": "stream",
     "text": [
      "0\n",
      "1\n",
      "2\n",
      "3\n",
      "4\n",
      "5\n",
      "6\n",
      "7\n",
      "8\n",
      "9\n"
     ]
    }
   ],
   "source": [
    "for i in tqdm(range(10)):\n",
    "    print(i)\n",
    "    sleep(1) #Something that takes a long time"
   ]
  },
  {
   "cell_type": "code",
   "execution_count": 19,
   "metadata": {},
   "outputs": [
    {
     "data": {
      "application/vnd.jupyter.widget-view+json": {
       "model_id": "f6925b2f56504a10ac84ae2985f711ad",
       "version_major": 2,
       "version_minor": 0
      },
      "text/plain": [
       "  0%|          | 0/999999 [00:00<?, ?it/s]"
      ]
     },
     "metadata": {},
     "output_type": "display_data"
    },
    {
     "ename": "KeyboardInterrupt",
     "evalue": "",
     "output_type": "error",
     "traceback": [
      "\u001b[1;31m---------------------------------------------------------------------------\u001b[0m",
      "\u001b[1;31mKeyboardInterrupt\u001b[0m                         Traceback (most recent call last)",
      "\u001b[1;32m~\\AppData\\Local\\Temp\\ipykernel_6808\\4077155198.py\u001b[0m in \u001b[0;36m<module>\u001b[1;34m\u001b[0m\n\u001b[0;32m      1\u001b[0m \u001b[0mfactorial\u001b[0m \u001b[1;33m=\u001b[0m \u001b[1;36m1\u001b[0m\u001b[1;33m\u001b[0m\u001b[1;33m\u001b[0m\u001b[0m\n\u001b[0;32m      2\u001b[0m \u001b[1;32mfor\u001b[0m \u001b[0mi\u001b[0m \u001b[1;32min\u001b[0m \u001b[0mtqdm\u001b[0m\u001b[1;33m(\u001b[0m\u001b[0mrange\u001b[0m\u001b[1;33m(\u001b[0m\u001b[1;36m1\u001b[0m\u001b[1;33m,\u001b[0m\u001b[1;36m1000000\u001b[0m\u001b[1;33m)\u001b[0m\u001b[1;33m)\u001b[0m\u001b[1;33m:\u001b[0m\u001b[1;33m\u001b[0m\u001b[1;33m\u001b[0m\u001b[0m\n\u001b[1;32m----> 3\u001b[1;33m     \u001b[0mfactorial\u001b[0m \u001b[1;33m*=\u001b[0m \u001b[0mi\u001b[0m\u001b[1;33m\u001b[0m\u001b[1;33m\u001b[0m\u001b[0m\n\u001b[0m",
      "\u001b[1;31mKeyboardInterrupt\u001b[0m: "
     ]
    }
   ],
   "source": [
    "factorial = 1\n",
    "for i in tqdm(range(1,1000000)):\n",
    "    factorial *= i"
   ]
  },
  {
   "cell_type": "code",
   "execution_count": 68,
   "metadata": {},
   "outputs": [
    {
     "data": {
      "application/vnd.jupyter.widget-view+json": {
       "model_id": "8d23e9349ab14fdc852cc4ec4710e728",
       "version_major": 2,
       "version_minor": 0
      },
      "text/plain": [
       "  0%|          | 0/999999 [00:00<?, ?it/s]"
      ]
     },
     "metadata": {},
     "output_type": "display_data"
    },
    {
     "ename": "KeyboardInterrupt",
     "evalue": "",
     "output_type": "error",
     "traceback": [
      "\u001b[0;31m---------------------------------------------------------------------------\u001b[0m",
      "\u001b[0;31mKeyboardInterrupt\u001b[0m                         Traceback (most recent call last)",
      "\u001b[0;32m/tmp/ipykernel_154/4077155198.py\u001b[0m in \u001b[0;36m<module>\u001b[0;34m\u001b[0m\n\u001b[1;32m      1\u001b[0m \u001b[0mfactorial\u001b[0m \u001b[0;34m=\u001b[0m \u001b[0;36m1\u001b[0m\u001b[0;34m\u001b[0m\u001b[0;34m\u001b[0m\u001b[0m\n\u001b[1;32m      2\u001b[0m \u001b[0;32mfor\u001b[0m \u001b[0mi\u001b[0m \u001b[0;32min\u001b[0m \u001b[0mtqdm\u001b[0m\u001b[0;34m(\u001b[0m\u001b[0mrange\u001b[0m\u001b[0;34m(\u001b[0m\u001b[0;36m1\u001b[0m\u001b[0;34m,\u001b[0m\u001b[0;36m1000000\u001b[0m\u001b[0;34m)\u001b[0m\u001b[0;34m)\u001b[0m\u001b[0;34m:\u001b[0m\u001b[0;34m\u001b[0m\u001b[0;34m\u001b[0m\u001b[0m\n\u001b[0;32m----> 3\u001b[0;31m     \u001b[0mfactorial\u001b[0m \u001b[0;34m*=\u001b[0m \u001b[0mi\u001b[0m\u001b[0;34m\u001b[0m\u001b[0;34m\u001b[0m\u001b[0m\n\u001b[0m",
      "\u001b[0;31mKeyboardInterrupt\u001b[0m: "
     ]
    }
   ],
   "source": [
    "factorial = 1\n",
    "for i in tqdm(range(1,1000000)):\n",
    "    factorial *= i"
   ]
  },
  {
   "cell_type": "raw",
   "metadata": {},
   "source": [
    "41% [############=================] 407422/999999 [01:01<03:22, 2930.81it/s]\n",
    "|    |                               |       |       |     |      |\n",
    "|    Progress bar                    |       |       |     |     Iterations per second\n",
    "Percentage progress                  |       |       |     Estimated time left\n",
    "                                     |       |       Time elapsed\n",
    "                                     |       Num. total iterations\n",
    "                                     Num. iterations elapsed\n",
    "\n",
    "This slows down a lot, so after 63% it looks like this:\n",
    "63% [###################==========] 630128/999999 [04:18<07:45, 795.28it/s]\n",
    "\n",
    "Iterations per second have gone way down and even though it is 3 minutes later, the \"estimated time left\" has gone up."
   ]
  },
  {
   "cell_type": "code",
   "execution_count": null,
   "metadata": {},
   "outputs": [],
   "source": []
  },
  {
   "cell_type": "code",
   "execution_count": null,
   "metadata": {},
   "outputs": [],
   "source": []
  },
  {
   "cell_type": "code",
   "execution_count": null,
   "metadata": {},
   "outputs": [],
   "source": []
  },
  {
   "cell_type": "code",
   "execution_count": null,
   "metadata": {},
   "outputs": [],
   "source": []
  },
  {
   "cell_type": "code",
   "execution_count": null,
   "metadata": {},
   "outputs": [],
   "source": []
  },
  {
   "cell_type": "code",
   "execution_count": null,
   "metadata": {},
   "outputs": [],
   "source": []
  },
  {
   "cell_type": "code",
   "execution_count": 72,
   "metadata": {},
   "outputs": [],
   "source": [
    "import matplotlib.pyplot as plt\n",
    "import numpy as np\n",
    "import scipy.optimize\n",
    "from matplotlib.ticker import Formatter\n",
    "from datetime import timedelta"
   ]
  },
  {
   "cell_type": "code",
   "execution_count": 73,
   "metadata": {},
   "outputs": [],
   "source": [
    "xs = np.array([0, 141566, 189230,  407422, 630128 ])\n",
    "ys = np.array([0, 0*60+6, 0*60+13, 1*60+1, 4*60+18])\n",
    "#fig, axes = plt.subplots(1, figsize=(4,2))\n",
    "#axes.scatter(xs, ys, s=5, c=\"k\");"
   ]
  },
  {
   "cell_type": "code",
   "execution_count": 74,
   "metadata": {},
   "outputs": [
    {
     "name": "stdout",
     "output_type": "stream",
     "text": [
      "R² = 0.9999291194455168\n",
      "Y = 5.40455788132747 * e^(--6.168878458155946e-06 * x) + -5.607536881046796\n",
      "Tau = -810520.1024652126 µs\n",
      "Time for x=999999: 0:42:55.864156\n"
     ]
    },
    {
     "data": {
      "image/png": "[encoded data removed]",
      "text/plain": [
       "<Figure size 432x288 with 1 Axes>"
      ]
     },
     "metadata": {
      "needs_background": "light"
     },
     "output_type": "display_data"
    }
   ],
   "source": [
    "# Note: This is an exponential fit\n",
    "\n",
    "class TimeFormatter(Formatter):\n",
    "    def __call__(self, x, pos=0):\n",
    "        \"\"\"Return the label for time x at position pos.\"\"\"\n",
    "        return timedelta(seconds=x)\n",
    "\n",
    "\n",
    "\n",
    "xlim = (0,1000000)\n",
    "\n",
    "plt.plot(xs, ys, '.')\n",
    "plt.title(\"Original Data\")\n",
    "\n",
    "def monoExp(x, m, t, b):\n",
    "    return m * np.exp(-t * x) + b\n",
    "\n",
    "# perform the fit\n",
    "p0 = (100, 0.00000001, 10) # start with values near those we expect\n",
    "params, cv = scipy.optimize.curve_fit(monoExp, xs, ys, p0)\n",
    "m, t, b = params\n",
    "sampleRate = 200_000 # Hz\n",
    "tauSec = (1 / t) / sampleRate\n",
    "\n",
    "# determine quality of the fit\n",
    "squaredDiffs = np.square(ys - monoExp(xs, m, t, b))\n",
    "squaredDiffsFromMean = np.square(ys - np.mean(ys))\n",
    "rSquared = 1 - np.sum(squaredDiffs) / np.sum(squaredDiffsFromMean)\n",
    "print(f\"R² = {rSquared}\")\n",
    "\n",
    "# plot the results\n",
    "#plt.plot(xs, ys, '.', label=\"data\")\n",
    "#plt.plot(xs, monoExp(xs, m, t, b), '--', label=\"fitted\")\n",
    "#plt.title(\"Fitted Exponential Curve\")\n",
    "\n",
    "# inspect the parameters\n",
    "print(f\"Y = {m} * e^(-{t} * x) + {b}\")\n",
    "print(f\"Tau = {tauSec * 1e6} µs\")\n",
    "\n",
    "xs2 = np.arange(*xlim)\n",
    "ys2 = monoExp(xs2, m, t, b)\n",
    "\n",
    "plt.plot(xs, ys, '.', label=\"data\")\n",
    "plt.plot(xs2, ys2, '--', label=\"fitted\")\n",
    "plt.title(\"Extrapolated Exponential Curve\")\n",
    "plt.ylabel(\"Time\")\n",
    "\n",
    "plt.xlim(xlim)\n",
    "\n",
    "plt.gca().yaxis.set_major_formatter(TimeFormatter())\n",
    "\n",
    "print(f\"Time for x={xs2[-1]}: {TimeFormatter()(ys2[-1])}\")\n",
    "\n",
    "\n",
    "\n",
    "plt.scatter([778626, 833232],[5*60+9, 6*60+9], marker=\"x\"); #Samples done at another time; were faster for earlier iterations too."
   ]
  },
  {
   "cell_type": "code",
   "execution_count": null,
   "metadata": {},
   "outputs": [],
   "source": []
  }
 ],
 "metadata": {
  "kernelspec": {
   "display_name": "python38",
   "language": "python",
   "name": "python38"
  },
  "language_info": {
   "codemirror_mode": {
    "name": "ipython",
    "version": 3
   },
   "file_extension": ".py",
   "mimetype": "text/x-python",
   "name": "python",
   "nbconvert_exporter": "python",
   "pygments_lexer": "ipython3",
   "version": "3.8.5"
  }
 },
 "nbformat": 4,
 "nbformat_minor": 4
}
