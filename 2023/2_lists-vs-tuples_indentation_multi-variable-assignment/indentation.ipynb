{
 "cells": [
  {
   "cell_type": "code",
   "execution_count": 6,
   "metadata": {},
   "outputs": [
    {
     "name": "stdout",
     "output_type": "stream",
     "text": [
      "Independent on the if-statement\n"
     ]
    }
   ],
   "source": [
    "#colons mean mandatory indent\n",
    "if False: #The below block is dependent on this line\n",
    "    print(\"Dependent on the if-statement\") #this line is indented\n",
    "    pass #this line is indented\n",
    "    pass #this line is indented\n",
    "    pass #this line is indented\n",
    "    pass #this line is indented\n",
    "    pass #this line is indented\n",
    "print(\"Independent on the if-statement\")"
   ]
  },
  {
   "cell_type": "code",
   "execution_count": 11,
   "metadata": {},
   "outputs": [],
   "source": [
    "val1 = 1\n",
    "val2 = 2\n",
    "val3 = 3\n",
    "\n",
    "#Optionally indent within iterables - purely a style choice\n",
    "(\n",
    "    val1,\n",
    "    val2,\n",
    "    val3\n",
    ")\n",
    "\n",
    "\n",
    "[\n",
    "    val1,\n",
    "    val2,\n",
    "    val3\n",
    "]\n",
    "\n",
    "{\n",
    "    val1,\n",
    "    val2,\n",
    "    val3\n",
    "}\n",
    "\n",
    "{\n",
    "    \"key1\":val1,\n",
    "    \"key2\":val2,\n",
    "    \"key3\":val3\n",
    "}; #Semicoloon to not print return value"
   ]
  },
  {
   "cell_type": "code",
   "execution_count": 12,
   "metadata": {},
   "outputs": [
    {
     "data": {
      "text/plain": [
       "True"
      ]
     },
     "execution_count": 12,
     "metadata": {},
     "output_type": "execute_result"
    }
   ],
   "source": [
    "# = always defines variable and nothing else\n",
    "x = 5 #sets the value of x to 5\n",
    "# == checks if something is equal\n",
    "x == 5 #asks \"is x equal to 5?\" and returns True/False"
   ]
  },
  {
   "cell_type": "code",
   "execution_count": 13,
   "metadata": {},
   "outputs": [
    {
     "ename": "SyntaxError",
     "evalue": "invalid syntax (31387659.py, line 2)",
     "output_type": "error",
     "traceback": [
      "\u001b[1;36m  File \u001b[1;32m\"C:\\Users\\Simon Breum\\AppData\\Local\\Temp\\ipykernel_6232\\31387659.py\"\u001b[1;36m, line \u001b[1;32m2\u001b[0m\n\u001b[1;33m    if x = 5:\u001b[0m\n\u001b[1;37m         ^\u001b[0m\n\u001b[1;31mSyntaxError\u001b[0m\u001b[1;31m:\u001b[0m invalid syntax\n"
     ]
    }
   ],
   "source": [
    "# Usually cannot be used wrong without error\n",
    "if x = 5:\n",
    "    print(\"x is 5!\")"
   ]
  },
  {
   "cell_type": "code",
   "execution_count": 16,
   "metadata": {},
   "outputs": [
    {
     "name": "stdout",
     "output_type": "stream",
     "text": [
      "x is now totally 3!\n"
     ]
    },
    {
     "data": {
      "text/plain": [
       "5"
      ]
     },
     "execution_count": 16,
     "metadata": {},
     "output_type": "execute_result"
    }
   ],
   "source": [
    "# Silently doesn't set the variable because it still works as-is\n",
    "x == 3 #Was supposed to set x to 3, but instead checks if x is 3 # Returns True, but nothing is done with the value\n",
    "\n",
    "print(\"x is now totally 3!\") #Actuyally not\n",
    "x"
   ]
  },
  {
   "cell_type": "code",
   "execution_count": 20,
   "metadata": {},
   "outputs": [
    {
     "name": "stdout",
     "output_type": "stream",
     "text": [
      "This returns None\n"
     ]
    }
   ],
   "source": [
    "print(\"This returns None\") == None\n",
    "pass #Do nothing"
   ]
  }
 ],
 "metadata": {
  "kernelspec": {
   "display_name": "Python 3 (ipykernel)",
   "language": "python",
   "name": "python3"
  },
  "language_info": {
   "codemirror_mode": {
    "name": "ipython",
    "version": 3
   },
   "file_extension": ".py",
   "mimetype": "text/x-python",
   "name": "python",
   "nbconvert_exporter": "python",
   "pygments_lexer": "ipython3",
   "version": "3.7.7"
  }
 },
 "nbformat": 4,
 "nbformat_minor": 4
}
