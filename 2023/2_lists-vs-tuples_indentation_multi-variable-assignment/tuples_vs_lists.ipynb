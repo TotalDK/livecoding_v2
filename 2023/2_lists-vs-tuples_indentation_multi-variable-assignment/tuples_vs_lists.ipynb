{
 "cells": [
  {
   "cell_type": "code",
   "execution_count": 9,
   "metadata": {},
   "outputs": [
    {
     "data": {
      "text/plain": [
       "(2, 3, 4, 5)"
      ]
     },
     "execution_count": 9,
     "metadata": {},
     "output_type": "execute_result"
    }
   ],
   "source": [
    "#Tuples are immutable\n",
    "tup = (2,3)\n",
    "tup += (4,5) # tup = tup + (4,5) # tup = (2,3)+(4,5) # tup = (2,3,4,5)\n",
    "tup"
   ]
  },
  {
   "cell_type": "code",
   "execution_count": 10,
   "metadata": {},
   "outputs": [
    {
     "data": {
      "text/plain": [
       "[2, 3, 4, 5]"
      ]
     },
     "execution_count": 10,
     "metadata": {},
     "output_type": "execute_result"
    }
   ],
   "source": [
    "li = [2,3]\n",
    "li += [4,5]\n",
    "li"
   ]
  },
  {
   "cell_type": "code",
   "execution_count": 11,
   "metadata": {},
   "outputs": [
    {
     "ename": "AttributeError",
     "evalue": "'tuple' object has no attribute 'append'",
     "output_type": "error",
     "traceback": [
      "\u001b[1;31m---------------------------------------------------------------------------\u001b[0m",
      "\u001b[1;31mAttributeError\u001b[0m                            Traceback (most recent call last)",
      "\u001b[1;32m~\\AppData\\Local\\Temp\\ipykernel_5676\\2479267340.py\u001b[0m in \u001b[0;36m<module>\u001b[1;34m\u001b[0m\n\u001b[1;32m----> 1\u001b[1;33m \u001b[0mtup\u001b[0m\u001b[1;33m.\u001b[0m\u001b[0mappend\u001b[0m\u001b[1;33m(\u001b[0m\u001b[1;36m0\u001b[0m\u001b[1;33m)\u001b[0m\u001b[1;33m\u001b[0m\u001b[1;33m\u001b[0m\u001b[0m\n\u001b[0m",
      "\u001b[1;31mAttributeError\u001b[0m: 'tuple' object has no attribute 'append'"
     ]
    }
   ],
   "source": [
    "tup.append(0)\n",
    "tup"
   ]
  },
  {
   "cell_type": "code",
   "execution_count": 12,
   "metadata": {},
   "outputs": [
    {
     "data": {
      "text/plain": [
       "[2, 3, 4, 5, 0]"
      ]
     },
     "execution_count": 12,
     "metadata": {},
     "output_type": "execute_result"
    }
   ],
   "source": [
    "li.append(0)\n",
    "li"
   ]
  },
  {
   "cell_type": "code",
   "execution_count": null,
   "metadata": {},
   "outputs": [],
   "source": []
  },
  {
   "cell_type": "code",
   "execution_count": null,
   "metadata": {},
   "outputs": [],
   "source": []
  },
  {
   "cell_type": "code",
   "execution_count": null,
   "metadata": {},
   "outputs": [],
   "source": []
  },
  {
   "cell_type": "code",
   "execution_count": null,
   "metadata": {},
   "outputs": [],
   "source": []
  },
  {
   "cell_type": "code",
   "execution_count": null,
   "metadata": {},
   "outputs": [],
   "source": []
  },
  {
   "cell_type": "code",
   "execution_count": 15,
   "metadata": {},
   "outputs": [
    {
     "data": {
      "text/plain": [
       "[1, 2, 3]"
      ]
     },
     "execution_count": 15,
     "metadata": {},
     "output_type": "execute_result"
    }
   ],
   "source": [
    "list1 = [1,2,3]\n",
    "list2 = list1\n",
    "list2"
   ]
  },
  {
   "cell_type": "code",
   "execution_count": 16,
   "metadata": {},
   "outputs": [
    {
     "data": {
      "text/plain": [
       "[1, 2, 3, 0]"
      ]
     },
     "execution_count": 16,
     "metadata": {},
     "output_type": "execute_result"
    }
   ],
   "source": [
    "list1.append(0)\n",
    "list1"
   ]
  },
  {
   "cell_type": "code",
   "execution_count": 17,
   "metadata": {},
   "outputs": [
    {
     "data": {
      "text/plain": [
       "[1, 2, 3, 0]"
      ]
     },
     "execution_count": 17,
     "metadata": {},
     "output_type": "execute_result"
    }
   ],
   "source": [
    "list2"
   ]
  },
  {
   "cell_type": "code",
   "execution_count": null,
   "metadata": {},
   "outputs": [],
   "source": []
  },
  {
   "cell_type": "code",
   "execution_count": 21,
   "metadata": {},
   "outputs": [
    {
     "data": {
      "text/plain": [
       "[('yoghurt', 'mint'),\n",
       " ('cookie', 'cookie'),\n",
       " ('caramel', 'yoghurt'),\n",
       " ('yoghurt', 'straciatella'),\n",
       " ('caramel', 'straciatella'),\n",
       " ('vanilla', 'yoghurt'),\n",
       " ('hazelnut', 'banana'),\n",
       " ('straciatella', 'straciatella'),\n",
       " ('cookie', 'cookie'),\n",
       " ('cookie', 'caramel'),\n",
       " ('banana', 'straciatella'),\n",
       " ('cheesecake', 'cookie'),\n",
       " ('chocolate', 'chocolate'),\n",
       " ('mint', 'hazelnut'),\n",
       " ('hazelnut', 'cheesecake'),\n",
       " ('caramel', 'vanilla'),\n",
       " ('yoghurt', 'mint'),\n",
       " ('cheesecake', 'vanilla'),\n",
       " ('chocolate', 'cookie'),\n",
       " ('mint', 'strawberry'),\n",
       " ('cookie', 'strawberry'),\n",
       " ('hazelnut', 'vanilla'),\n",
       " ('yoghurt', 'strawberry'),\n",
       " ('strawberry', 'chocolate'),\n",
       " ('cheesecake', 'cookie'),\n",
       " ('straciatella', 'vanilla'),\n",
       " ('caramel', 'banana'),\n",
       " ('mint', 'straciatella'),\n",
       " ('caramel', 'strawberry'),\n",
       " ('cookie', 'strawberry'),\n",
       " ('caramel', 'yoghurt'),\n",
       " ('strawberry', 'mint'),\n",
       " ('mint', 'hazelnut'),\n",
       " ('banana', 'hazelnut'),\n",
       " ('straciatella', 'banana'),\n",
       " ('mint', 'straciatella'),\n",
       " ('cheesecake', 'chocolate'),\n",
       " ('mint', 'yoghurt'),\n",
       " ('cookie', 'banana'),\n",
       " ('cheesecake', 'mint'),\n",
       " ('banana', 'straciatella'),\n",
       " ('mint', 'straciatella'),\n",
       " ('straciatella', 'straciatella'),\n",
       " ('cookie', 'mint'),\n",
       " ('cookie', 'straciatella'),\n",
       " ('banana', 'caramel'),\n",
       " ('mint', 'cheesecake'),\n",
       " ('chocolate', 'banana'),\n",
       " ('cheesecake', 'vanilla'),\n",
       " ('vanilla', 'yoghurt'),\n",
       " ('hazelnut', 'yoghurt'),\n",
       " ('hazelnut', 'cookie'),\n",
       " ('strawberry', 'cookie'),\n",
       " ('yoghurt', 'cheesecake'),\n",
       " ('cheesecake', 'banana'),\n",
       " ('vanilla', 'hazelnut'),\n",
       " ('cookie', 'strawberry'),\n",
       " ('mint', 'straciatella'),\n",
       " ('cheesecake', 'vanilla'),\n",
       " ('cookie', 'strawberry'),\n",
       " ('cookie', 'strawberry')]"
      ]
     },
     "execution_count": 21,
     "metadata": {},
     "output_type": "execute_result"
    }
   ],
   "source": [
    "icecream_sold_tuples = [\n",
    "    ('yoghurt', 'mint'), ('cookie', 'cookie'), ('caramel', 'yoghurt'), ('yoghurt', 'straciatella'), ('caramel', 'straciatella'),\n",
    "    ('vanilla', 'yoghurt'), ('hazelnut', 'banana'), ('straciatella', 'straciatella'), ('cookie', 'cookie'), ('cookie', 'caramel'),\n",
    "    ('banana', 'straciatella'), ('cheesecake', 'cookie'), ('chocolate', 'chocolate'), ('mint', 'hazelnut'), ('hazelnut', 'cheesecake'),\n",
    "    ('caramel', 'vanilla'), ('yoghurt', 'mint'), ('cheesecake', 'vanilla'), ('chocolate', 'cookie'), ('mint', 'strawberry'), ('cookie', 'strawberry'),\n",
    "    ('hazelnut', 'vanilla'), ('yoghurt', 'strawberry'), ('strawberry', 'chocolate'), ('cheesecake', 'cookie'), ('straciatella', 'vanilla'),\n",
    "    ('caramel', 'banana'), ('mint', 'straciatella'), ('caramel', 'strawberry'), ('cookie', 'strawberry'), ('caramel', 'yoghurt'),\n",
    "    ('strawberry', 'mint'), ('mint', 'hazelnut'), ('banana', 'hazelnut'), ('straciatella', 'banana'), ('mint', 'straciatella'),\n",
    "    ('cheesecake', 'chocolate'), ('mint', 'yoghurt'), ('cookie', 'banana'), ('cheesecake', 'mint'), ('banana', 'straciatella'),\n",
    "    ('mint', 'straciatella'), ('straciatella', 'straciatella'), ('cookie', 'mint'), ('cookie', 'straciatella'), ('banana', 'caramel'),\n",
    "    ('mint', 'cheesecake'), ('chocolate', 'banana'), ('cheesecake', 'vanilla'), ('vanilla', 'yoghurt'), ('hazelnut', 'yoghurt'),\n",
    "    ('hazelnut', 'cookie'), ('strawberry', 'cookie'), ('yoghurt', 'cheesecake'), ('cheesecake', 'banana'), ('vanilla', 'hazelnut'), \n",
    "    ('cookie', 'strawberry'), ('mint', 'straciatella'), ('cheesecake', 'vanilla'), ('cookie', 'strawberry'), ('cookie', 'strawberry')\n",
    "]\n",
    "icecream_sold_tuples"
   ]
  },
  {
   "cell_type": "code",
   "execution_count": 22,
   "metadata": {},
   "outputs": [
    {
     "data": {
      "text/plain": [
       "[['yoghurt', 'mint'],\n",
       " ['cookie', 'cookie'],\n",
       " ['caramel', 'yoghurt'],\n",
       " ['yoghurt', 'straciatella'],\n",
       " ['caramel', 'straciatella'],\n",
       " ['vanilla', 'yoghurt'],\n",
       " ['hazelnut', 'banana'],\n",
       " ['straciatella', 'straciatella'],\n",
       " ['cookie', 'cookie'],\n",
       " ['cookie', 'caramel'],\n",
       " ['banana', 'straciatella'],\n",
       " ['cheesecake', 'cookie'],\n",
       " ['chocolate', 'chocolate'],\n",
       " ['mint', 'hazelnut'],\n",
       " ['hazelnut', 'cheesecake'],\n",
       " ['caramel', 'vanilla'],\n",
       " ['yoghurt', 'mint'],\n",
       " ['cheesecake', 'vanilla'],\n",
       " ['chocolate', 'cookie'],\n",
       " ['mint', 'strawberry'],\n",
       " ['cookie', 'strawberry'],\n",
       " ['hazelnut', 'vanilla'],\n",
       " ['yoghurt', 'strawberry'],\n",
       " ['strawberry', 'chocolate'],\n",
       " ['cheesecake', 'cookie'],\n",
       " ['straciatella', 'vanilla'],\n",
       " ['caramel', 'banana'],\n",
       " ['mint', 'straciatella'],\n",
       " ['caramel', 'strawberry'],\n",
       " ['cookie', 'strawberry'],\n",
       " ['caramel', 'yoghurt'],\n",
       " ['strawberry', 'mint'],\n",
       " ['mint', 'hazelnut'],\n",
       " ['banana', 'hazelnut'],\n",
       " ['straciatella', 'banana'],\n",
       " ['mint', 'straciatella'],\n",
       " ['cheesecake', 'chocolate'],\n",
       " ['mint', 'yoghurt'],\n",
       " ['cookie', 'banana'],\n",
       " ['cheesecake', 'mint'],\n",
       " ['banana', 'straciatella'],\n",
       " ['mint', 'straciatella'],\n",
       " ['straciatella', 'straciatella'],\n",
       " ['cookie', 'mint'],\n",
       " ['cookie', 'straciatella'],\n",
       " ['banana', 'caramel'],\n",
       " ['mint', 'cheesecake'],\n",
       " ['chocolate', 'banana'],\n",
       " ['cheesecake', 'vanilla'],\n",
       " ['vanilla', 'yoghurt'],\n",
       " ['hazelnut', 'yoghurt'],\n",
       " ['hazelnut', 'cookie'],\n",
       " ['strawberry', 'cookie'],\n",
       " ['yoghurt', 'cheesecake'],\n",
       " ['cheesecake', 'banana'],\n",
       " ['vanilla', 'hazelnut'],\n",
       " ['cookie', 'strawberry'],\n",
       " ['mint', 'straciatella'],\n",
       " ['cheesecake', 'vanilla'],\n",
       " ['cookie', 'strawberry'],\n",
       " ['cookie', 'strawberry']]"
      ]
     },
     "execution_count": 22,
     "metadata": {},
     "output_type": "execute_result"
    }
   ],
   "source": [
    "icecream_sold_list = []\n",
    "for combination in icecream_sold_tuples:\n",
    "    icecream_sold_list.append(list(combination))\n",
    "icecream_sold_list"
   ]
  },
  {
   "cell_type": "code",
   "execution_count": null,
   "metadata": {},
   "outputs": [],
   "source": []
  },
  {
   "cell_type": "code",
   "execution_count": null,
   "metadata": {},
   "outputs": [],
   "source": []
  },
  {
   "cell_type": "code",
   "execution_count": 24,
   "metadata": {},
   "outputs": [
    {
     "data": {
      "text/plain": [
       "{('yoghurt', 'mint'): 2,\n",
       " ('cookie', 'cookie'): 2,\n",
       " ('caramel', 'yoghurt'): 2,\n",
       " ('yoghurt', 'straciatella'): 1,\n",
       " ('caramel', 'straciatella'): 1,\n",
       " ('vanilla', 'yoghurt'): 2,\n",
       " ('hazelnut', 'banana'): 1,\n",
       " ('straciatella', 'straciatella'): 2,\n",
       " ('cookie', 'caramel'): 1,\n",
       " ('banana', 'straciatella'): 2,\n",
       " ('cheesecake', 'cookie'): 2,\n",
       " ('chocolate', 'chocolate'): 1,\n",
       " ('mint', 'hazelnut'): 2,\n",
       " ('hazelnut', 'cheesecake'): 1,\n",
       " ('caramel', 'vanilla'): 1,\n",
       " ('cheesecake', 'vanilla'): 3,\n",
       " ('chocolate', 'cookie'): 1,\n",
       " ('mint', 'strawberry'): 1,\n",
       " ('cookie', 'strawberry'): 5,\n",
       " ('hazelnut', 'vanilla'): 1,\n",
       " ('yoghurt', 'strawberry'): 1,\n",
       " ('strawberry', 'chocolate'): 1,\n",
       " ('straciatella', 'vanilla'): 1,\n",
       " ('caramel', 'banana'): 1,\n",
       " ('mint', 'straciatella'): 4,\n",
       " ('caramel', 'strawberry'): 1,\n",
       " ('strawberry', 'mint'): 1,\n",
       " ('banana', 'hazelnut'): 1,\n",
       " ('straciatella', 'banana'): 1,\n",
       " ('cheesecake', 'chocolate'): 1,\n",
       " ('mint', 'yoghurt'): 1,\n",
       " ('cookie', 'banana'): 1,\n",
       " ('cheesecake', 'mint'): 1,\n",
       " ('cookie', 'mint'): 1,\n",
       " ('cookie', 'straciatella'): 1,\n",
       " ('banana', 'caramel'): 1,\n",
       " ('mint', 'cheesecake'): 1,\n",
       " ('chocolate', 'banana'): 1,\n",
       " ('hazelnut', 'yoghurt'): 1,\n",
       " ('hazelnut', 'cookie'): 1,\n",
       " ('strawberry', 'cookie'): 1,\n",
       " ('yoghurt', 'cheesecake'): 1,\n",
       " ('cheesecake', 'banana'): 1,\n",
       " ('vanilla', 'hazelnut'): 1}"
      ]
     },
     "execution_count": 24,
     "metadata": {},
     "output_type": "execute_result"
    }
   ],
   "source": [
    "count_dict = dict()\n",
    "\n",
    "for combination in icecream_sold_tuples:\n",
    "    if combination not in count_dict.keys():\n",
    "        count_dict[combination] = 1\n",
    "    else:\n",
    "        count_dict[combination] += 1\n",
    "\n",
    "count_dict"
   ]
  },
  {
   "cell_type": "code",
   "execution_count": 25,
   "metadata": {},
   "outputs": [
    {
     "ename": "TypeError",
     "evalue": "unhashable type: 'list'",
     "output_type": "error",
     "traceback": [
      "\u001b[1;31m---------------------------------------------------------------------------\u001b[0m",
      "\u001b[1;31mTypeError\u001b[0m                                 Traceback (most recent call last)",
      "\u001b[1;32m~\\AppData\\Local\\Temp\\ipykernel_5676\\3121475189.py\u001b[0m in \u001b[0;36m<module>\u001b[1;34m\u001b[0m\n\u001b[0;32m      2\u001b[0m \u001b[1;33m\u001b[0m\u001b[0m\n\u001b[0;32m      3\u001b[0m \u001b[1;32mfor\u001b[0m \u001b[0mcombination\u001b[0m \u001b[1;32min\u001b[0m \u001b[0micecream_sold_list\u001b[0m\u001b[1;33m:\u001b[0m\u001b[1;33m\u001b[0m\u001b[1;33m\u001b[0m\u001b[0m\n\u001b[1;32m----> 4\u001b[1;33m     \u001b[1;32mif\u001b[0m \u001b[0mcombination\u001b[0m \u001b[1;32mnot\u001b[0m \u001b[1;32min\u001b[0m \u001b[0mcount_dict\u001b[0m\u001b[1;33m.\u001b[0m\u001b[0mkeys\u001b[0m\u001b[1;33m(\u001b[0m\u001b[1;33m)\u001b[0m\u001b[1;33m:\u001b[0m\u001b[1;33m\u001b[0m\u001b[1;33m\u001b[0m\u001b[0m\n\u001b[0m\u001b[0;32m      5\u001b[0m         \u001b[0mcount_dict\u001b[0m\u001b[1;33m[\u001b[0m\u001b[0mcombination\u001b[0m\u001b[1;33m]\u001b[0m \u001b[1;33m=\u001b[0m \u001b[1;36m1\u001b[0m\u001b[1;33m\u001b[0m\u001b[1;33m\u001b[0m\u001b[0m\n\u001b[0;32m      6\u001b[0m     \u001b[1;32melse\u001b[0m\u001b[1;33m:\u001b[0m\u001b[1;33m\u001b[0m\u001b[1;33m\u001b[0m\u001b[0m\n",
      "\u001b[1;31mTypeError\u001b[0m: unhashable type: 'list'"
     ]
    }
   ],
   "source": [
    "count_dict = dict()\n",
    "\n",
    "for combination in icecream_sold_list:\n",
    "    if combination not in count_dict.keys():\n",
    "        count_dict[combination] = 1\n",
    "    else:\n",
    "        count_dict[combination] += 1\n",
    "\n",
    "count_dict"
   ]
  },
  {
   "cell_type": "code",
   "execution_count": null,
   "metadata": {},
   "outputs": [],
   "source": []
  }
 ],
 "metadata": {
  "kernelspec": {
   "display_name": "Python 3 (ipykernel)",
   "language": "python",
   "name": "python3"
  },
  "language_info": {
   "codemirror_mode": {
    "name": "ipython",
    "version": 3
   },
   "file_extension": ".py",
   "mimetype": "text/x-python",
   "name": "python",
   "nbconvert_exporter": "python",
   "pygments_lexer": "ipython3",
   "version": "3.7.7"
  }
 },
 "nbformat": 4,
 "nbformat_minor": 4
}
