{
 "cells": [
  {
   "cell_type": "code",
   "execution_count": 1,
   "metadata": {},
   "outputs": [],
   "source": [
    "icecream_sold = [\n",
    "    ('yoghurt', 'mint'), ('cookie', 'cookie'), ('caramel', 'yoghurt'), ('yoghurt', 'straciatella'), ('caramel', 'straciatella'),\n",
    "    ('vanilla', 'yoghurt'), ('hazelnut', 'banana'), ('straciatella', 'straciatella'), ('cookie', 'cookie'), ('cookie', 'caramel'),\n",
    "    ('banana', 'straciatella'), ('cheesecake', 'cookie'), ('chocolate', 'chocolate'), ('mint', 'hazelnut'), ('hazelnut', 'cheesecake'),\n",
    "    ('caramel', 'vanilla'), ('yoghurt', 'mint'), ('cheesecake', 'vanilla'), ('chocolate', 'cookie'), ('mint', 'strawberry'), ('cookie', 'strawberry'),\n",
    "    ('hazelnut', 'vanilla'), ('yoghurt', 'strawberry'), ('strawberry', 'chocolate'), ('cheesecake', 'cookie'), ('straciatella', 'vanilla'),\n",
    "    ('caramel', 'banana'), ('mint', 'straciatella'), ('caramel', 'strawberry'), ('cookie', 'strawberry'), ('caramel', 'yoghurt'),\n",
    "    ('strawberry', 'mint'), ('mint', 'hazelnut'), ('banana', 'hazelnut'), ('straciatella', 'banana'), ('mint', 'straciatella'),\n",
    "    ('cheesecake', 'chocolate'), ('mint', 'yoghurt'), ('cookie', 'banana'), ('cheesecake', 'mint'), ('banana', 'straciatella'),\n",
    "    ('mint', 'straciatella'), ('straciatella', 'straciatella'), ('cookie', 'mint'), ('cookie', 'straciatella'), ('banana', 'caramel'),\n",
    "    ('mint', 'cheesecake'), ('chocolate', 'banana'), ('cheesecake', 'vanilla'), ('vanilla', 'yoghurt'), ('hazelnut', 'yoghurt'),\n",
    "    ('hazelnut', 'cookie'), ('strawberry', 'cookie'), ('yoghurt', 'cheesecake'), ('cheesecake', 'banana'), ('vanilla', 'hazelnut'), \n",
    "    ('cookie', 'strawberry'), ('mint', 'straciatella'), ('cheesecake', 'vanilla'), ('cookie', 'strawberry'), ('cookie', 'strawberry')\n",
    "]"
   ]
  },
  {
   "cell_type": "code",
   "execution_count": 4,
   "metadata": {},
   "outputs": [],
   "source": [
    "def my_func(x, y, keyword_arg=2):\n",
    "    pass\n",
    "\n",
    "#These do the same thing\n",
    "my_func(1,2,3)\n",
    "my_func(1,2,keyword_arg=3)"
   ]
  },
  {
   "cell_type": "code",
   "execution_count": 5,
   "metadata": {},
   "outputs": [],
   "source": [
    "print?"
   ]
  },
  {
   "cell_type": "code",
   "execution_count": 16,
   "metadata": {},
   "outputs": [
    {
     "name": "stdout",
     "output_type": "stream",
     "text": [
      "('yoghurt', 'mint')\t\tyoghurt\t\tmint\n",
      "('cookie', 'cookie')\t\tcookie\t\tcookie\n",
      "('caramel', 'yoghurt')\t\tcaramel\t\tyoghurt\n",
      "('yoghurt', 'straciatella')\t\tyoghurt\t\tstraciatella\n",
      "('caramel', 'straciatella')\t\tcaramel\t\tstraciatella\n",
      "('vanilla', 'yoghurt')\t\tvanilla\t\tyoghurt\n",
      "('hazelnut', 'banana')\t\thazelnut\t\tbanana\n",
      "('straciatella', 'straciatella')\t\tstraciatella\t\tstraciatella\n",
      "('cookie', 'cookie')\t\tcookie\t\tcookie\n",
      "('cookie', 'caramel')\t\tcookie\t\tcaramel\n",
      "('banana', 'straciatella')\t\tbanana\t\tstraciatella\n",
      "('cheesecake', 'cookie')\t\tcheesecake\t\tcookie\n",
      "('chocolate', 'chocolate')\t\tchocolate\t\tchocolate\n",
      "('mint', 'hazelnut')\t\tmint\t\thazelnut\n",
      "('hazelnut', 'cheesecake')\t\thazelnut\t\tcheesecake\n",
      "('caramel', 'vanilla')\t\tcaramel\t\tvanilla\n",
      "('yoghurt', 'mint')\t\tyoghurt\t\tmint\n",
      "('cheesecake', 'vanilla')\t\tcheesecake\t\tvanilla\n",
      "('chocolate', 'cookie')\t\tchocolate\t\tcookie\n",
      "('mint', 'strawberry')\t\tmint\t\tstrawberry\n",
      "('cookie', 'strawberry')\t\tcookie\t\tstrawberry\n",
      "('hazelnut', 'vanilla')\t\thazelnut\t\tvanilla\n",
      "('yoghurt', 'strawberry')\t\tyoghurt\t\tstrawberry\n",
      "('strawberry', 'chocolate')\t\tstrawberry\t\tchocolate\n",
      "('cheesecake', 'cookie')\t\tcheesecake\t\tcookie\n",
      "('straciatella', 'vanilla')\t\tstraciatella\t\tvanilla\n",
      "('caramel', 'banana')\t\tcaramel\t\tbanana\n",
      "('mint', 'straciatella')\t\tmint\t\tstraciatella\n",
      "('caramel', 'strawberry')\t\tcaramel\t\tstrawberry\n",
      "('cookie', 'strawberry')\t\tcookie\t\tstrawberry\n",
      "('caramel', 'yoghurt')\t\tcaramel\t\tyoghurt\n",
      "('strawberry', 'mint')\t\tstrawberry\t\tmint\n",
      "('mint', 'hazelnut')\t\tmint\t\thazelnut\n",
      "('banana', 'hazelnut')\t\tbanana\t\thazelnut\n",
      "('straciatella', 'banana')\t\tstraciatella\t\tbanana\n",
      "('mint', 'straciatella')\t\tmint\t\tstraciatella\n",
      "('cheesecake', 'chocolate')\t\tcheesecake\t\tchocolate\n",
      "('mint', 'yoghurt')\t\tmint\t\tyoghurt\n",
      "('cookie', 'banana')\t\tcookie\t\tbanana\n",
      "('cheesecake', 'mint')\t\tcheesecake\t\tmint\n",
      "('banana', 'straciatella')\t\tbanana\t\tstraciatella\n",
      "('mint', 'straciatella')\t\tmint\t\tstraciatella\n",
      "('straciatella', 'straciatella')\t\tstraciatella\t\tstraciatella\n",
      "('cookie', 'mint')\t\tcookie\t\tmint\n",
      "('cookie', 'straciatella')\t\tcookie\t\tstraciatella\n",
      "('banana', 'caramel')\t\tbanana\t\tcaramel\n",
      "('mint', 'cheesecake')\t\tmint\t\tcheesecake\n",
      "('chocolate', 'banana')\t\tchocolate\t\tbanana\n",
      "('cheesecake', 'vanilla')\t\tcheesecake\t\tvanilla\n",
      "('vanilla', 'yoghurt')\t\tvanilla\t\tyoghurt\n",
      "('hazelnut', 'yoghurt')\t\thazelnut\t\tyoghurt\n",
      "('hazelnut', 'cookie')\t\thazelnut\t\tcookie\n",
      "('strawberry', 'cookie')\t\tstrawberry\t\tcookie\n",
      "('yoghurt', 'cheesecake')\t\tyoghurt\t\tcheesecake\n",
      "('cheesecake', 'banana')\t\tcheesecake\t\tbanana\n",
      "('vanilla', 'hazelnut')\t\tvanilla\t\thazelnut\n",
      "('cookie', 'strawberry')\t\tcookie\t\tstrawberry\n",
      "('mint', 'straciatella')\t\tmint\t\tstraciatella\n",
      "('cheesecake', 'vanilla')\t\tcheesecake\t\tvanilla\n",
      "('cookie', 'strawberry')\t\tcookie\t\tstrawberry\n",
      "('cookie', 'strawberry')\t\tcookie\t\tstrawberry\n"
     ]
    }
   ],
   "source": [
    "for combination in icecream_sold:\n",
    "    flavor1 = combination[0]\n",
    "    flavor2 = combination[1]\n",
    "    print(combination, flavor1, flavor2, sep=\"\\t\\t\")"
   ]
  },
  {
   "cell_type": "code",
   "execution_count": 18,
   "metadata": {},
   "outputs": [
    {
     "name": "stdout",
     "output_type": "stream",
     "text": [
      "yoghurt\t\tmint\n",
      "cookie\t\tcookie\n",
      "caramel\t\tyoghurt\n",
      "yoghurt\t\tstraciatella\n",
      "caramel\t\tstraciatella\n",
      "vanilla\t\tyoghurt\n",
      "hazelnut\t\tbanana\n",
      "straciatella\t\tstraciatella\n",
      "cookie\t\tcookie\n",
      "cookie\t\tcaramel\n",
      "banana\t\tstraciatella\n",
      "cheesecake\t\tcookie\n",
      "chocolate\t\tchocolate\n",
      "mint\t\thazelnut\n",
      "hazelnut\t\tcheesecake\n",
      "caramel\t\tvanilla\n",
      "yoghurt\t\tmint\n",
      "cheesecake\t\tvanilla\n",
      "chocolate\t\tcookie\n",
      "mint\t\tstrawberry\n",
      "cookie\t\tstrawberry\n",
      "hazelnut\t\tvanilla\n",
      "yoghurt\t\tstrawberry\n",
      "strawberry\t\tchocolate\n",
      "cheesecake\t\tcookie\n",
      "straciatella\t\tvanilla\n",
      "caramel\t\tbanana\n",
      "mint\t\tstraciatella\n",
      "caramel\t\tstrawberry\n",
      "cookie\t\tstrawberry\n",
      "caramel\t\tyoghurt\n",
      "strawberry\t\tmint\n",
      "mint\t\thazelnut\n",
      "banana\t\thazelnut\n",
      "straciatella\t\tbanana\n",
      "mint\t\tstraciatella\n",
      "cheesecake\t\tchocolate\n",
      "mint\t\tyoghurt\n",
      "cookie\t\tbanana\n",
      "cheesecake\t\tmint\n",
      "banana\t\tstraciatella\n",
      "mint\t\tstraciatella\n",
      "straciatella\t\tstraciatella\n",
      "cookie\t\tmint\n",
      "cookie\t\tstraciatella\n",
      "banana\t\tcaramel\n",
      "mint\t\tcheesecake\n",
      "chocolate\t\tbanana\n",
      "cheesecake\t\tvanilla\n",
      "vanilla\t\tyoghurt\n",
      "hazelnut\t\tyoghurt\n",
      "hazelnut\t\tcookie\n",
      "strawberry\t\tcookie\n",
      "yoghurt\t\tcheesecake\n",
      "cheesecake\t\tbanana\n",
      "vanilla\t\thazelnut\n",
      "cookie\t\tstrawberry\n",
      "mint\t\tstraciatella\n",
      "cheesecake\t\tvanilla\n",
      "cookie\t\tstrawberry\n",
      "cookie\t\tstrawberry\n"
     ]
    }
   ],
   "source": [
    "for (flavor1, flavor2) in icecream_sold:\n",
    "    print(flavor1, flavor2, sep=\"\\t\\t\")"
   ]
  },
  {
   "cell_type": "code",
   "execution_count": 25,
   "metadata": {},
   "outputs": [
    {
     "name": "stdout",
     "output_type": "stream",
     "text": [
      "a\t1\n",
      "b\t2\n"
     ]
    }
   ],
   "source": [
    "my_dict = {\"a\":1, \"b\":2}\n",
    "for (key, value) in my_dict.items():\n",
    "    print(key, value, sep=\"\\t\")"
   ]
  },
  {
   "cell_type": "code",
   "execution_count": 26,
   "metadata": {},
   "outputs": [
    {
     "name": "stdout",
     "output_type": "stream",
     "text": [
      "a\t1\n",
      "b\t2\n"
     ]
    }
   ],
   "source": [
    "for key, value in my_dict.items():\n",
    "    print(key, value, sep=\"\\t\")"
   ]
  },
  {
   "cell_type": "code",
   "execution_count": null,
   "metadata": {},
   "outputs": [],
   "source": []
  }
 ],
 "metadata": {
  "kernelspec": {
   "display_name": "Python 3 (ipykernel)",
   "language": "python",
   "name": "python3"
  },
  "language_info": {
   "codemirror_mode": {
    "name": "ipython",
    "version": 3
   },
   "file_extension": ".py",
   "mimetype": "text/x-python",
   "name": "python",
   "nbconvert_exporter": "python",
   "pygments_lexer": "ipython3",
   "version": "3.7.7"
  }
 },
 "nbformat": 4,
 "nbformat_minor": 4
}
