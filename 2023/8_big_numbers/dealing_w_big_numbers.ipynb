{
 "cells": [
  {
   "cell_type": "markdown",
   "id": "81579266",
   "metadata": {},
   "source": [
    "## Dealing with large numbers in Python"
   ]
  },
  {
   "cell_type": "markdown",
   "id": "30a88875",
   "metadata": {},
   "source": [
    "Today we're gonna be looking at a cryptography problem which we're going to be using as an excuse to learn how to deal with super large numbers in Python using only standard libraries, in a \"do it yourself from scratch\" manner :)"
   ]
  },
  {
   "cell_type": "markdown",
   "id": "2e2387ce",
   "metadata": {},
   "source": [
    "The problem we're gonna be looking at is \"Sum-O-Primes\" from the Cryptography category on PicoCTF, a site with cybersecurity contests(CTF) training problems. Please note that I did not make this problem, and all credits go to the respective creators. This problem comes from a past CTF event, so it's ok to share a solution and use the text we'll be decrypting on the site for some internet points if you want. You can check out the original problem at https://play.picoctf.org/practice/challenge/310?category=2&page=5"
   ]
  },
  {
   "cell_type": "markdown",
   "id": "7a178290",
   "metadata": {},
   "source": [
    "We are provided with 2 files to start, the implementation of the encryption algorithm as a .py file where we can read the code (bad_rsa.py in the files folder of the zip you found this notebook in), and a text file with the ciphertext (encrypted text we're supposed to decrypt) and 2 other numbers (out.txt in the files folder).\n",
    "Let's read in the contents of this output file and store them as variables so we can work with them."
   ]
  },
  {
   "cell_type": "code",
   "execution_count": 1,
   "id": "8bfbd810",
   "metadata": {},
   "outputs": [
    {
     "name": "stdout",
     "output_type": "stream",
     "text": [
      "['x = 1429cf99b5dd5dde9f016095be650d5b0a9a73e648aa72324cb8eb05bd14c1b913539a97f5417474f6014de830ad6dee028dd8908e593b1e99c4cc88f400127214036e71112292e58a2ccffc48f57524aee90f9858d935c7a86297a90c7fe48b80f6c4e8df9eaae501ef40da7984502457255fbc8a9e1574ec6ba210be134f192', 'n = 64fc90f5ca6db24f7bfc6419de407596d29a9ecda526101b8d0eff2181e9b8ed1538a1cbabe4dfc5bcd899976e7739f8b448815b50db36a994c5b1df97981d562c663113fc5ee84f3206aecd18248fb4e9bddf205c8119e8437f7d6522e63d05bc357ae4969a4b3000b8226f8d142c23c4e38cdb0c385bf9564e8a115e4c52b7a2e3a9073a5d99d7bec3bca6452cf0c1b8d8b6b123cc6a6980cf14088d6a2bbb5ed36b85cb0003e535bd16d79ad54ff5b26e62f57de074654493d3a26a149786d5fbf61b42c9305092eb018aa3db3cb18b24f188ae520bd18acf9ffced09a2ba302a520f6e2bfd8eea9adc01eb8ee941181694a3ab493e1aa53fbbbf2851a591', 'c = 56ed81bbc149701110f0a15e2e6078ab926d74ee2c11b804ae4fad4333a25c247f38bb74867922438d10ce529b75f5ee5e29ce71d6f704cc0644f7e78d60a2af8921fbc49326280e3f0c00f2769e837363cbb05dc3f30bda8fdc94111fb025008eae562ae57029d5cfde6bdd09893a738187578d22f82a5f8769f093681662329f05b262c2054f91696a24f631ba8132f3d92ae7758c91fa9b5657e4944c5d5f93afb4af68908d004ae5f97071bcaceb7d0034297eeb897f972b44b0d7def52f46ee45d386a5e24ed613bf7e5177c6e10f69a3d3de0f0c30de0b15d360ee81da3d277a4acf47b6df389c24615884b692e604eba711fc28c34bc56227b8455705']\n"
     ]
    }
   ],
   "source": [
    "with open(\"files/out.txt\", \"r\") as file:\n",
    "    variables = [var[:-1] for var in file.readlines()] #we remove the last character from each line because it's the newline\n",
    "    #character (\\n)\n",
    "    \n",
    "print(variables)\n",
    "#we skip the first 4 characters for each line to only store the actual value of each variable without the \"x = \" or similar\n",
    "x = variables[0][4:]\n",
    "n = variables[1][4:]\n",
    "c = variables[2][4:]"
   ]
  },
  {
   "cell_type": "markdown",
   "id": "093f20e1",
   "metadata": {},
   "source": [
    "#### But what are x, n and c? And why are there letters in what I said will be numbers?\n",
    "Let's take a look at the source code to find out!"
   ]
  },
  {
   "cell_type": "markdown",
   "id": "208f6c7e",
   "metadata": {},
   "source": [
    "```\n",
    "p = get_prime(1024)\n",
    "q = get_prime(1024)\n",
    "\n",
    "x = p + q\n",
    "n = p * q\n",
    "\n",
    "e = 65537\n",
    "\n",
    "m = math.lcm(p - 1, q - 1)\n",
    "d = pow(e, -1, m)\n",
    "\n",
    "c = pow(FLAG, e, n)\n",
    "\n",
    "print(f'x = {x:x}')\n",
    "print(f'n = {n:x}')\n",
    "print(f'c = {c:x}')\n",
    "```"
   ]
  },
  {
   "cell_type": "markdown",
   "id": "a2f38cd0",
   "metadata": {},
   "source": [
    "We can see from the code that:\n",
    "- **x** is the **sum of p and q**\n",
    "- **n** is the **product of p and q**\n",
    "- **p and q** are 2 **very large randomly generated prime numbers**\n",
    "- **c is the ciphertext** we should decipher"
   ]
  },
  {
   "cell_type": "markdown",
   "id": "a83c8087",
   "metadata": {},
   "source": [
    "The reasoning for the strange letters in our numbers comes from those prints. A quick Google search on python :x formatting reveals that those numbers were printed out **in hex format**. That means that the numbers are in base 16 rather than the usual base 10.<br>\n",
    "Instead of the usual 0-9 digits, hex numbers have digits in the range 0-f (where the order is 0...9 then a...f)</br>\n",
    "Thankfully, we can easily convert hex (base 16) into decimal (base 10) using the built-in **int** function by specifying the base.<br>\n",
    "Let's take a look at some examples below:</br>"
   ]
  },
  {
   "cell_type": "code",
   "execution_count": 2,
   "id": "064be9a0",
   "metadata": {},
   "outputs": [
    {
     "name": "stdout",
     "output_type": "stream",
     "text": [
      "The hex number 91 corresponds to the decimal number 145\n",
      "The hex number abc corresponds to the decimal number 2748\n",
      "The hex number ff corresponds to the decimal number 255\n",
      "The hex number 2e corresponds to the decimal number 46\n",
      "The hex number 11 corresponds to the decimal number 17\n",
      "The hex number a0 corresponds to the decimal number 160\n"
     ]
    }
   ],
   "source": [
    "hex_nums = [\"91\", \"abc\", \"ff\", \"2e\", \"11\", \"a0\"]\n",
    "\n",
    "for num in hex_nums:\n",
    "    print(f\"The hex number {num} corresponds to the decimal number {int(num,16)}\")"
   ]
  },
  {
   "cell_type": "markdown",
   "id": "fea8e671",
   "metadata": {},
   "source": [
    "**But why is this the case?**<br>\n",
    "Let's take the first example, 91.<br>\n",
    "In decimal (base 10), the value of 91 is equivalent to:<br>\n",
    "$9 \\cdot 10^1 + 1 \\cdot 10^0 = 9 \\cdot 10 + 1 \\cdot 1 = 90 + 1 = 91$<br>\n",
    "In hex (base 16), the value of 91 is equivalent to:<br>\n",
    "$9 \\cdot 16^1 + 1 \\cdot 16^0 = 9 \\cdot 16 + 1 \\cdot 1 = 144 + 1 = 145$<br>\n",
    "\n",
    "Let's do the next one as well, abc:<br>\n",
    "\"abc\" doesn't make make sense as a decimal (base 10) number, as the digits in base 10 range between 0-9.<br>\n",
    "It does, however, make sense in hex (base 16), where the digits are in the range 0-f.<br>\n",
    "Note that the order of the digits is 0 1 2 3 4 5 6 7 8 9 a b c d e f, so \"a\" coresponds to 10, \"b\" to 11, ..., \"f\" to 15<br>\n",
    "$a \\cdot 16^2 + b \\cdot 16^1 + c \\cdot 16^0 = 10 \\cdot 256 + 11 \\cdot 16 + 12 \\cdot 1 = 2560 + 176 + 12 = 2748$"
   ]
  },
  {
   "cell_type": "markdown",
   "id": "b7073c45",
   "metadata": {},
   "source": [
    "This generalizes for any number of digits. You can find a good video tutorial on how to convert a hex number to a decimal number here: https://www.youtube.com/watch?app=desktop&v=pg-HEGBpCQk"
   ]
  },
  {
   "cell_type": "markdown",
   "id": "b3de154e",
   "metadata": {},
   "source": [
    "**Quick practice exercise**<br>\n",
    "Convert the following numbers from hex to decimal:<br>\n",
    "- 5\n",
    "- 3d\n",
    "- 20a1"
   ]
  },
  {
   "cell_type": "markdown",
   "id": "4dacdb0b",
   "metadata": {},
   "source": [
    "**Answers**\n",
    "<details>\n",
    "5, 61, 8353<br>\n",
    "Detailed calculations<br>\n",
    "5 to decimal:<br>\n",
    "$5 \\cdot 16^0 = 5 \\cdot 1 = 5$<br>\n",
    "3d to decimal:<br>\n",
    "$3 \\cdot 16^1 + d \\cdot 16^0 = 3 \\cdot 16 + 13 \\cdot 1 = 48 + 13 = 61$<br>\n",
    "20a1 to decimal:<br>\n",
    "$2 \\cdot 16^3 + 0 \\cdot 16^2 + a \\cdot 16^1 + 1 \\cdot 16^0 = 2 \\cdot 4096 + 0 + 10 \\cdot 16 + 1 \\cdot 1 = 8192 + 160 + 1 = 8353$<br>"
   ]
  },
  {
   "cell_type": "markdown",
   "id": "af7c8ce7",
   "metadata": {},
   "source": [
    "Now that we know how to convert hex numbers to decimal both manually and using the int() function, let's convert our given hex numbers, x, n and c to decimal numbers."
   ]
  },
  {
   "cell_type": "code",
   "execution_count": 3,
   "id": "d9c1d08d",
   "metadata": {},
   "outputs": [
    {
     "data": {
      "text/plain": [
       "(226546681856190263619892616792218130521570032262900236549842672089682515778208912828199358515201866805387062463737665662193399729692506388610482184894766897264590903874257311731561568385258790764817634614996008408916675362993565156633617744400865408980221036805932997456044401299988657076337415409658280341906,\n",
       " 12748375556570078931323876348697038029886491950060893186497892699683317310111501916404065392536144464445274333083913910180253319432381125194397252750773181597311793438448103802013908804250712055956932783382160826057817857884706400126928785524023416639273133188054126549943840133256364632699489374831153112912849257351235687536993709519898200527506046169055543255426445369812520133191225616000823928660305132530452791031554731459373681724346453451955400046033943647503543004239988261829585365322656463554537121162528508154784790226768384873003984706798967595704521420442755894365726841231719003175270545612919345882513,\n",
       " 10973613181025373836494303450917130987059661836734458345215706851869702117197012842253937846483910307404452085857865745259722119865040707321845296825281145033458825441916700710654793941185838346205571114635803612394852954209233681938383888744362309343081787690827255931228968103235773114580264471933769920192138570272565847344742054992529767750282792607339836888188156563998003178421716411943034076438905987817052219727423475290466700139639611354588099587913505802567172838853518679348568151164402593903829638882901424779010534373623812469392962051811234052002326278244109831996299918732147921376316845109417674626821)"
      ]
     },
     "execution_count": 3,
     "metadata": {},
     "output_type": "execute_result"
    }
   ],
   "source": [
    "x = int(x, 16)\n",
    "n = int(n, 16)\n",
    "c = int(c, 16)\n",
    "\n",
    "x, n, c"
   ]
  },
  {
   "cell_type": "markdown",
   "id": "53cec7f2",
   "metadata": {},
   "source": [
    "Damn! Those are truly some big numbers!<br>\n",
    "Now that we got that whole hex problem out of the way, how do we actually decrypt c?<br>\n",
    "We are told in the text of the original problem that the secret message is encrypted with an algorithm called RSA.<br>\n",
    "A quick Google search on \"RSA decryption formula\" shows us that this is the formula to decrypt a message that was encrypted with RSA:<br>\n",
    "$plaintext = C^d(mod \\ n)$<br>\n",
    "This seems complicated, but translated into python it would be just a simple pow(c, d, n), if we had c, d and n. <br>\n",
    "Here, c is our ciphertext, we already have that in our \"c\" variable, and n is just the product of the two primes, which we also have in our \"n\" variable. But we don't seem to have a \"d\", what is that? <br>"
   ]
  },
  {
   "cell_type": "markdown",
   "id": "592b5e15",
   "metadata": {},
   "source": [
    "Let's take a look at the code again, this time to see how we can get that \"d\" we need<br>\n",
    "```\n",
    "x = p + q\n",
    "n = p * q\n",
    "\n",
    "e = 65537\n",
    "\n",
    "m = math.lcm(p - 1, q - 1)\n",
    "d = pow(e, -1, m)\n",
    "\n",
    "c = pow(FLAG, e, n)\n",
    "```"
   ]
  },
  {
   "cell_type": "markdown",
   "id": "a9ae3c0a",
   "metadata": {},
   "source": [
    "The \"d\" in the code is the d we need. So how can we get that? <br>\n",
    "```\n",
    "d = pow(e, -1, m)\n",
    "```\n",
    "We can just copy and run the same code they wrote to get d, but we will need all of the variables initialized with the right values. We can see from the code that e = 65537, so we have that, but we don't have a value for \"m\". So let's go a step back and look at how they calculated m. <br>\n",
    "```\n",
    "m = math.lcm(p - 1, q - 1)\n",
    "```\n",
    "\"math.lcm\" just calculates the lowest common multiple, and again, once we have all of the variables we can just copy paste this line and run it to get m, so we don't need to worry about how this function works under the hood. However, it seems that we need p and q, the 2 very large randomly generated primes. <br>\n",
    "If we try to look back once more and find some clues on how to calculate p and q, we will just come across how they were initialized <br>\n",
    "```\n",
    "p = get_prime(1024)\n",
    "q = get_prime(1024)\n",
    "```\n",
    "p and q are, indeed, 2 randomly generated very large primes, and there is nothing we can do with this information alone to find out what their values are.<br>"
   ]
  },
  {
   "cell_type": "markdown",
   "id": "72b254e6",
   "metadata": {},
   "source": [
    "**So what did we find out?**<br>\n",
    "We need to somehow find p and q, the 2 randomly generated very large primes. If we succeed that, we can get the other necessary variables m and d, and decrypt the message by copy pasting code that does some simple math.<br>\n",
    "**Now, how can we actually do that?**<br>\n",
    "Well, the simple answer is, in proper implementations of RSA, you can't.<br>\n",
    "Usually, you would only get N, the public key, the product of the 2 primes, p and q, so if you wanted to decrypt the message without knowing d, the private key, you would need to somehow get p and q solely from their product N. You don't need to worry about what the terms _public key_ and _private key_ mean and the theory behind how this works, but, as you probably guessed, you need both of those to decrypt the message.<br>\n",
    "Given that p and q are large enough and all of the other variables are set to appropriate values when encrypting the message, it is **computationally infeaseable** (_fancy terminology_ for \"would take forever and it's not doable\") to find p and q and decrypt the message. The whole concept of RSA, which is one of the most commonly used encryption algorithms, which is considered secure, is that it's very hard to find the 2 primes from their product.<br>"
   ]
  },
  {
   "cell_type": "markdown",
   "id": "765c9d25",
   "metadata": {},
   "source": [
    "Now, you might be thinking _Amazing, well how is this problem even solvable then?_<br>\n",
    "Well, since this problem is posted on a _training site_ you probably guessed that it was made specifically to be solved, and this implementation must be somehow flawed to allow you to actually decrypt the message. <br>"
   ]
  },
  {
   "cell_type": "markdown",
   "id": "55dcbfcb",
   "metadata": {},
   "source": [
    "Here, the key lies in the **_extra information_** we are given: x<br>\n",
    "In this problem, x is the sum of the 2 primes p and q, and it's extra information that is not usually (and should'nt be, as you will soon see) given.<br>\n",
    "With the given information, we now have 2 different pieces of information about p and q.<br>\n",
    "- p + q = x\n",
    "- p * q = n<br>"
   ]
  },
  {
   "cell_type": "markdown",
   "id": "e7faeee7",
   "metadata": {},
   "source": [
    "Where we are given x and n:"
   ]
  },
  {
   "cell_type": "code",
   "execution_count": 4,
   "id": "82de7142",
   "metadata": {},
   "outputs": [
    {
     "name": "stdout",
     "output_type": "stream",
     "text": [
      "The sum of p and q (x) is 226546681856190263619892616792218130521570032262900236549842672089682515778208912828199358515201866805387062463737665662193399729692506388610482184894766897264590903874257311731561568385258790764817634614996008408916675362993565156633617744400865408980221036805932997456044401299988657076337415409658280341906\n",
      "\n",
      "The product of p and q (n) is 12748375556570078931323876348697038029886491950060893186497892699683317310111501916404065392536144464445274333083913910180253319432381125194397252750773181597311793438448103802013908804250712055956932783382160826057817857884706400126928785524023416639273133188054126549943840133256364632699489374831153112912849257351235687536993709519898200527506046169055543255426445369812520133191225616000823928660305132530452791031554731459373681724346453451955400046033943647503543004239988261829585365322656463554537121162528508154784790226768384873003984706798967595704521420442755894365726841231719003175270545612919345882513\n"
     ]
    }
   ],
   "source": [
    "print(f\"The sum of p and q (x) is {x}\\n\")\n",
    "print(f\"The product of p and q (n) is {n}\")"
   ]
  },
  {
   "cell_type": "markdown",
   "id": "b639afdd",
   "metadata": {},
   "source": [
    "That surely does look intimidating.<br>\n",
    "However, there is actually an extremely simple way to find **any 2 numbers if you are given their sum and product**<br>"
   ]
  },
  {
   "cell_type": "markdown",
   "id": "a9066d53",
   "metadata": {},
   "source": [
    "Let's take a much simpler example:\n",
    "- the sum of the numbers is 9\n",
    "- the product of the numbers is 18<br>"
   ]
  },
  {
   "cell_type": "markdown",
   "id": "8b684853",
   "metadata": {},
   "source": [
    "What are the numbers?<br>\n",
    "**Answer**\n",
    "<details>3 and 6"
   ]
  },
  {
   "cell_type": "markdown",
   "id": "a99abd12",
   "metadata": {},
   "source": [
    "That was probably not too hard to think of, but what if we had bigger numbers, like the sum being 108 and the product being 2835?<br>\n",
    "Probably still very guessable, but considerably harder. Guessing for those huge numbers from above is certainly out of the question.<br>"
   ]
  },
  {
   "cell_type": "markdown",
   "id": "596df32f",
   "metadata": {},
   "source": [
    "We can actually automatise this little guessing game to work for any sum and product using the properties of the 2nd degree equation.<br>\n",
    "You may remember that there's actually a theorem regarding the sum and product of 2nd degree equation roots.<br>\n",
    "It's called **Vieta's formula** and you've probably seen it at some point in high school:<br>"
   ]
  },
  {
   "cell_type": "markdown",
   "id": "478e7d18",
   "metadata": {},
   "source": [
    "### Vieta's formula\n",
    "\n",
    "For a 2nd degree equation $ax^2 + bx + c$ with roots $x_1$ and $x_2$<br>\n",
    "$S = x_1 + x_2 = \\frac{-b}{a}$<br>\n",
    "$P = x_1 \\cdot x_2 = \\frac{c}{a}$<br>"
   ]
  },
  {
   "cell_type": "markdown",
   "id": "dae80a1a",
   "metadata": {},
   "source": [
    "But what if we set a to 1?<br>\n",
    "Then S would be -b, and P would be c.<br>\n",
    "Which would mean that we can rewrite the 2nd degree equation like this:<br>\n",
    "$x^2 - Sx + P$<br><br>\n",
    "What would we get if we solved this simple 2nd degree equation? $x_1$ and $x_2$, the numbers that were used to get S and P, the sum and product that we were given.<br>\n",
    "**This means that, in theory, we should be able to get any 2 numbers given their sum and product by solving a simple 2nd degree equation**<br>\n",
    "If you're interested, you can read more about Vieta's formula here: https://www.geeksforgeeks.org/vietas-formula/"
   ]
  },
  {
   "cell_type": "markdown",
   "id": "b25bbdd8",
   "metadata": {},
   "source": [
    "Let's attempt exactly that for our guessing game!<br>\n",
    "All we need is to write a function to solve a 2nd degree equation.<br>\n",
    "We will just use the good old math formulas:<br>\n",
    "$\\Delta = b^2 - 4ac$<br>\n",
    "$x_1 = \\frac{-b - \\sqrt{\\Delta}}{2a}$<br>\n",
    "$x_2 = \\frac{-b + \\sqrt{\\Delta}}{2a}$<br>"
   ]
  },
  {
   "cell_type": "code",
   "execution_count": 5,
   "id": "448ba1ef",
   "metadata": {},
   "outputs": [],
   "source": [
    "def solve_2nd_degree_eq(a,b,c):\n",
    "    \n",
    "    delta = (b ** 2) - (4 * a * c)\n",
    "    \n",
    "    x_1 = (-b - (delta ** (1/2))) / (2 * a)\n",
    "    x_2 = (-b + (delta ** (1/2))) / (2 * a)\n",
    "    \n",
    "    return x_1, x_2"
   ]
  },
  {
   "cell_type": "markdown",
   "id": "55395c1a",
   "metadata": {},
   "source": [
    "Now all we need to do is to pass the 2nd degree equation function a=1, b=S and c=P.<br>\n",
    "Let's try that for our examples from before:<br>"
   ]
  },
  {
   "cell_type": "code",
   "execution_count": 6,
   "id": "f1323fbf",
   "metadata": {},
   "outputs": [
    {
     "name": "stdout",
     "output_type": "stream",
     "text": [
      "Calculated x1, x2: 3.0 and 6.0\n",
      "Checks:\n",
      "Sum check: True\n",
      "Product check: True\n"
     ]
    }
   ],
   "source": [
    "S = 9\n",
    "P = 18\n",
    "x1, x2 = solve_2nd_degree_eq(1,-S,P)\n",
    "print(f\"Calculated x1, x2: {x1} and {x2}\")\n",
    "print(\"Checks:\")\n",
    "print(f\"Sum check: {x1 + x2 == S}\")\n",
    "print(f\"Product check: {x1 * x2 == P}\")"
   ]
  },
  {
   "cell_type": "code",
   "execution_count": 7,
   "id": "dab15ba5",
   "metadata": {},
   "outputs": [
    {
     "name": "stdout",
     "output_type": "stream",
     "text": [
      "Calculated x1, x2: 45.0 and 63.0\n",
      "Checks:\n",
      "Sum check: True\n",
      "Product check: True\n"
     ]
    }
   ],
   "source": [
    "S = 108\n",
    "P = 2835\n",
    "x1, x2 = solve_2nd_degree_eq(1,-S,P)\n",
    "print(f\"Calculated x1, x2: {x1} and {x2}\")\n",
    "print(\"Checks:\")\n",
    "print(f\"Sum check: {x1 + x2 == S}\")\n",
    "print(f\"Product check: {x1 * x2 == P}\")"
   ]
  },
  {
   "cell_type": "markdown",
   "id": "9e07b0e2",
   "metadata": {},
   "source": [
    "This seems to be working amazingly! Let's try some much bigger numbers!"
   ]
  },
  {
   "cell_type": "code",
   "execution_count": 8,
   "id": "40b302df",
   "metadata": {},
   "outputs": [],
   "source": [
    "secret_a = 79282929\n",
    "secret_b = 29202929"
   ]
  },
  {
   "cell_type": "code",
   "execution_count": 9,
   "id": "404e7323",
   "metadata": {},
   "outputs": [
    {
     "name": "stdout",
     "output_type": "stream",
     "text": [
      "Calculated x1, x2: 29202929.0 and 79282929.0\n",
      "Checks:\n",
      "Sum check: True\n",
      "Product check: True\n"
     ]
    }
   ],
   "source": [
    "S = secret_a + secret_b\n",
    "P = secret_a * secret_b\n",
    "x1, x2 = solve_2nd_degree_eq(1,-S,P)\n",
    "print(f\"Calculated x1, x2: {x1} and {x2}\")\n",
    "print(\"Checks:\")\n",
    "print(f\"Sum check: {x1 + x2 == S}\")\n",
    "print(f\"Product check: {x1 * x2 == P}\")"
   ]
  },
  {
   "cell_type": "markdown",
   "id": "7a09268c",
   "metadata": {},
   "source": [
    "It seems that it still works! But what is we go **extra extra large numbers**??"
   ]
  },
  {
   "cell_type": "code",
   "execution_count": 10,
   "id": "f2a75134",
   "metadata": {},
   "outputs": [],
   "source": [
    "secret_a = 37289292200273738383392929292902027\n",
    "secret_b = 38393839839226622728722782728282787"
   ]
  },
  {
   "cell_type": "code",
   "execution_count": 11,
   "id": "cfd7c78d",
   "metadata": {},
   "outputs": [
    {
     "name": "stdout",
     "output_type": "stream",
     "text": [
      "Calculated x1, x2: 3.728929220027374e+34 and 3.8393839839226623e+34\n",
      "Checks:\n",
      "Sum check: False\n",
      "Product check: False\n"
     ]
    }
   ],
   "source": [
    "S = secret_a + secret_b\n",
    "P = secret_a * secret_b\n",
    "x1, x2 = solve_2nd_degree_eq(1,-S,P)\n",
    "print(f\"Calculated x1, x2: {x1} and {x2}\")\n",
    "print(\"Checks:\")\n",
    "print(f\"Sum check: {x1 + x2 == S}\")\n",
    "print(f\"Product check: {x1 * x2 == P}\")"
   ]
  },
  {
   "cell_type": "markdown",
   "id": "654f64ca",
   "metadata": {},
   "source": [
    "Oh no! It seems that this implementation doesn't pass the _keyboard smash tier large numbers_ check<br>\n",
    "Even worse, if we try to run this with the numbers from the problem we're actually supposed to use (x,n) it won't even run.<br>"
   ]
  },
  {
   "cell_type": "code",
   "execution_count": 12,
   "id": "711dabbc",
   "metadata": {},
   "outputs": [],
   "source": [
    "#The line below generates an error, uncomment to see\n",
    "#solve_2nd_degree_eq(1,-x,n)"
   ]
  },
  {
   "cell_type": "markdown",
   "id": "291e8e5e",
   "metadata": {},
   "source": [
    "What is this cryptic _OverflowError: int too large to convert to float_?<br>\n",
    "Well, python can deal with arbitrarily large ints."
   ]
  },
  {
   "cell_type": "code",
   "execution_count": 13,
   "id": "2411d183",
   "metadata": {},
   "outputs": [
    {
     "data": {
      "text/plain": [
       "3211055143340940382464701995841782424686400638977648259632150521461986613550578643864445468841016012001672174511554692941376598035060853331634624453063827342736461010075969149908416669710297818346625849032331322187398357787767922588780553070264826136305061951454770208747429689676454931530240791609435716680897597090263587597011947663894280468370901108568527442613474033782355564354626660297569063324026070521616741278315837078139140574279874184337544622269075058589143864925039317811327098188921655020581719341347320576052208984680999675025116359553289010546629423232177330396979855667584182050003018218664998361488247466863011537015930399172338480034352541520994486195402495359225929187167485155790019006222010407617918119086357727106822432233666397804275022205465023644431616429078584885544585631277677667098388784722017625861313517682100277346304"
      ]
     },
     "execution_count": 13,
     "metadata": {},
     "output_type": "execute_result"
    }
   ],
   "source": [
    "2 ** 2822"
   ]
  },
  {
   "cell_type": "markdown",
   "id": "facfe8ef",
   "metadata": {},
   "source": [
    "That was completely fine! What a number!<br>\n",
    "But python is definitely not as generous in the float department"
   ]
  },
  {
   "cell_type": "code",
   "execution_count": 14,
   "id": "bf6394b4",
   "metadata": {},
   "outputs": [],
   "source": [
    "#The line below generates an error, uncomment to see\n",
    "#(2 ** 2822) ** (1/2)"
   ]
  },
  {
   "cell_type": "markdown",
   "id": "15749587",
   "metadata": {},
   "source": [
    "It seems that trying to take the square root of our super large resulting delta generates the _OverflowError: int too large to convert to float_ error.<br>\n",
    "Unfortunately, we'd be facing a similar problem with the following division as well."
   ]
  },
  {
   "cell_type": "code",
   "execution_count": 15,
   "id": "b4d075a1",
   "metadata": {},
   "outputs": [],
   "source": [
    "#The line below generates an error, uncomment to see\n",
    "#(2 ** 2822) / 1000"
   ]
  },
  {
   "cell_type": "markdown",
   "id": "a8e307c8",
   "metadata": {},
   "source": [
    "We now get an _OverflowError: integer division result too large for a float_.<br>\n",
    "Well, we have 2 different errors, and even if the code went through the result wouldn't be accurate.<br>\n",
    "That doesn't seem great."
   ]
  },
  {
   "cell_type": "markdown",
   "id": "e3cb962b",
   "metadata": {},
   "source": [
    "It seems (upon a few intense Google searches) that all those 3 problems happen because of the same thing: python's limited float precision.<br>\n",
    "Fortunately, there is a specialized library in standard python that deals with exactly these types of problems: **decimal**.<br>\n",
    "You can read more about it in the official python documentation: https://docs.python.org/3/library/decimal.html"
   ]
  },
  {
   "cell_type": "code",
   "execution_count": 16,
   "id": "29433600",
   "metadata": {},
   "outputs": [],
   "source": [
    "from decimal import *"
   ]
  },
  {
   "cell_type": "markdown",
   "id": "4bf66a24",
   "metadata": {},
   "source": [
    "This library allows us to use the data type _Decimal_, which is based on _float_, but allows for setting precision as big as needed (unlike the classical float), allowing us to deal with those super large floats we encountered.<br>\n",
    "By default, the precision will be 28 digits after the floating point, we can see this with getcontext().<br>\n",
    "We can change this precision with getcontext().prec<br>"
   ]
  },
  {
   "cell_type": "code",
   "execution_count": 17,
   "id": "76507336",
   "metadata": {},
   "outputs": [
    {
     "data": {
      "text/plain": [
       "Context(prec=28, rounding=ROUND_HALF_EVEN, Emin=-999999, Emax=999999, capitals=1, clamp=0, flags=[], traps=[InvalidOperation, DivisionByZero, Overflow])"
      ]
     },
     "execution_count": 17,
     "metadata": {},
     "output_type": "execute_result"
    }
   ],
   "source": [
    "#default context\n",
    "getcontext()"
   ]
  },
  {
   "cell_type": "code",
   "execution_count": 18,
   "id": "e0047809",
   "metadata": {},
   "outputs": [
    {
     "data": {
      "text/plain": [
       "Context(prec=1000, rounding=ROUND_HALF_EVEN, Emin=-999999, Emax=999999, capitals=1, clamp=0, flags=[], traps=[InvalidOperation, DivisionByZero, Overflow])"
      ]
     },
     "execution_count": 18,
     "metadata": {},
     "output_type": "execute_result"
    }
   ],
   "source": [
    "getcontext().prec = 1000\n",
    "getcontext()"
   ]
  },
  {
   "cell_type": "markdown",
   "id": "5d57a6f0",
   "metadata": {},
   "source": [
    "We will be using Decimal.sqrt() instead of ** 1/2 to make use of the arbitrary precision of the Decimal module (and because the built in power function (** and pow) doesn't work with the _Decimal_ data type)."
   ]
  },
  {
   "cell_type": "code",
   "execution_count": 19,
   "id": "c5e024a6",
   "metadata": {},
   "outputs": [
    {
     "data": {
      "text/plain": [
       "Decimal('56666172831248630060015497598719762697896336582016192354183482017064171595901376302024618239812323953109806145875966553841429596923860187556201738611615082360670359226839961894879598513270888850718347987420163226284508037579500049230358987876492590073311013873374604982140967663399026943753480074867073035393892114351651662868044658104820561250062374112394894832424918954576789805774061036915911725078996135856097829792514048')"
      ]
     },
     "execution_count": 19,
     "metadata": {},
     "output_type": "execute_result"
    }
   ],
   "source": [
    "Decimal(2 ** 2822).sqrt()"
   ]
  },
  {
   "cell_type": "markdown",
   "id": "88093408",
   "metadata": {},
   "source": [
    "Now we can deal with square roots of arbitrarily large numbers! Hooray!"
   ]
  },
  {
   "cell_type": "code",
   "execution_count": 20,
   "id": "20184c58",
   "metadata": {},
   "outputs": [
    {
     "data": {
      "text/plain": [
       "Decimal('3211055143340940382464701995841782424686400638977648259632150521461986613550578643864445468841016012001672174511554692941376598035060853331634624453063827342736461010075969149908416669710297818346625849032331322187398357787767922588780553070264826136305061951454770208747429689676454931530240791609435716680897597090263587597011947663894280468370901108568527442613474033782355564354626660297569063324026070521616741278315837078139140574279874184337544622269075058589143864925039317811327098188921655020581719341347320576052208984680999675025116359553289010546629423232177330396979855667584182050003018218664998361488247466863011537015930399172338480034352541520994486195402495359225929187167485155790019006222010407617918119086357727106822432233666397804275022205465023644431616429078584885544585631277677667098388784722017625861313517682100277346.304')"
      ]
     },
     "execution_count": 20,
     "metadata": {},
     "output_type": "execute_result"
    }
   ],
   "source": [
    "Decimal(2 ** 2822) / Decimal(1000)"
   ]
  },
  {
   "cell_type": "markdown",
   "id": "343ff4f1",
   "metadata": {},
   "source": [
    "And we can also divide arbitrarily large numbers!<br>\n",
    "Let's upgrade our function to work for super big numbers now :)"
   ]
  },
  {
   "cell_type": "code",
   "execution_count": 21,
   "id": "25af3713",
   "metadata": {},
   "outputs": [],
   "source": [
    "def solve_2nd_degree_eq_fancy(a,b,c):\n",
    "    \n",
    "    delta = (b ** 2) - (4 * a * c)\n",
    "    \n",
    "    sqrt_delta = Decimal(delta).sqrt()\n",
    "    x_1 = (Decimal(-b) - sqrt_delta) / Decimal(2 * a)\n",
    "    x_2 = (Decimal(-b) + sqrt_delta) / Decimal(2 * a)\n",
    "    \n",
    "    return int(x_1), int(x_2)"
   ]
  },
  {
   "cell_type": "markdown",
   "id": "0dd28d8d",
   "metadata": {},
   "source": [
    "Let's test it out on our super big number test:"
   ]
  },
  {
   "cell_type": "code",
   "execution_count": 22,
   "id": "b739ac30",
   "metadata": {},
   "outputs": [
    {
     "name": "stdout",
     "output_type": "stream",
     "text": [
      "Calculated x1, x2: 37289292200273738383392929292902027 and 38393839839226622728722782728282787\n",
      "Checks:\n",
      "Sum check: True\n",
      "Product check: True\n"
     ]
    }
   ],
   "source": [
    "secret_a = 37289292200273738383392929292902027\n",
    "secret_b = 38393839839226622728722782728282787\n",
    "S = secret_a + secret_b\n",
    "P = secret_a * secret_b\n",
    "x1, x2 = solve_2nd_degree_eq_fancy(1,-S,P)\n",
    "print(f\"Calculated x1, x2: {x1} and {x2}\")\n",
    "print(\"Checks:\")\n",
    "print(f\"Sum check: {x1 + x2 == S}\")\n",
    "print(f\"Product check: {x1 * x2 == P}\")"
   ]
  },
  {
   "cell_type": "markdown",
   "id": "ddbe1a4e",
   "metadata": {},
   "source": [
    "This seems to work now.<br>\n",
    "It's time for the real test, running it on our given numbers, x and n."
   ]
  },
  {
   "cell_type": "code",
   "execution_count": 23,
   "id": "3607ad94",
   "metadata": {},
   "outputs": [
    {
     "name": "stdout",
     "output_type": "stream",
     "text": [
      "Calculated x1, x2: 104191809755303135841130553919690511982590784006703342137891233625303583575261037741899643858912976657685104564581344274225446213011385644579286861030288322940001431308705375156622789940928620617537019250142554607990319581184398156171545104914273931427544198611355393768325227410092849953567948286813698778689 and 122354872100887127778762062872527618538979248256196894411951438464378932202947875086299714656288890147701957899156321387967953516681120744031195323864478574324589472565551936574938778444330170147280615364853453800926355781809167000462072639486591477552676838194577603687719173889895807122769467122844581563217\n",
      "Checks:\n",
      "Sum check: True\n",
      "Product check: True\n"
     ]
    }
   ],
   "source": [
    "p, q = solve_2nd_degree_eq_fancy(1,-x,n)\n",
    "print(f\"Calculated x1, x2: {p} and {q}\")\n",
    "print(\"Checks:\")\n",
    "print(f\"Sum check: {p + q == x}\")\n",
    "print(f\"Product check: {p * q == n}\")"
   ]
  },
  {
   "cell_type": "markdown",
   "id": "d67ca038",
   "metadata": {},
   "source": [
    "We have now gotten the code to run with no errors, as well as return p and q which do actually give the expected sum and product.<br>\n",
    "Now all we have left to do is to copy paste the code they provided with our variables to get m and d, then apply the formula to decrypt our ciphertext c.<br>"
   ]
  },
  {
   "cell_type": "code",
   "execution_count": 24,
   "id": "e47b876c",
   "metadata": {},
   "outputs": [],
   "source": [
    "import math"
   ]
  },
  {
   "cell_type": "code",
   "execution_count": 25,
   "id": "e71ee479",
   "metadata": {},
   "outputs": [],
   "source": [
    "e = 65537\n",
    "\n",
    "m = math.lcm(p - 1, q - 1)\n",
    "d = pow(e, -1, m)"
   ]
  },
  {
   "cell_type": "code",
   "execution_count": 26,
   "id": "97498f2e",
   "metadata": {},
   "outputs": [
    {
     "data": {
      "text/plain": [
       "19023464378915228186961971911578673930414528675538075162786456500620236949484333128408678850102656856786656603493716332838663549"
      ]
     },
     "execution_count": 26,
     "metadata": {},
     "output_type": "execute_result"
    }
   ],
   "source": [
    "plaintext = pow(c,d,n)\n",
    "plaintext"
   ]
  },
  {
   "cell_type": "markdown",
   "id": "d314ec8d",
   "metadata": {},
   "source": [
    "Is this correct? What is this number?<br>\n",
    "If we look at the source code, we can see that the secret message (the \"flag\") was first encoded as hex, and then converted to an int, so let's try to reverse that process.<br>\n",
    "```\n",
    "FLAG  = int(hexlify(FLAG.encode()), 16)\n",
    "```\n",
    "Originally, we know we had some english plain text, then, it was converted to hex, and this hex was then converted to int.<br>\n",
    "Let's do that process in reverse:<br>\n",
    "int -> hex -> string (ASCII)"
   ]
  },
  {
   "cell_type": "markdown",
   "id": "9ba46a89",
   "metadata": {},
   "source": [
    "Convert int to hex using built in hex() function"
   ]
  },
  {
   "cell_type": "code",
   "execution_count": 27,
   "id": "c26f8a36",
   "metadata": {},
   "outputs": [
    {
     "data": {
      "text/plain": [
       "'0x7069636f4354467b706c33337a5f6e305f673176335f63306e677275336e63335f30665f357175347233355f32343932396334357d'"
      ]
     },
     "execution_count": 27,
     "metadata": {},
     "output_type": "execute_result"
    }
   ],
   "source": [
    "plaintext = hex(plaintext)\n",
    "plaintext"
   ]
  },
  {
   "cell_type": "markdown",
   "id": "782a120e",
   "metadata": {},
   "source": [
    "We will need to get rid of the \"0x\" before the number, otherwise the next function we'll use will throw an error"
   ]
  },
  {
   "cell_type": "code",
   "execution_count": 28,
   "id": "e114512a",
   "metadata": {},
   "outputs": [
    {
     "data": {
      "text/plain": [
       "'7069636f4354467b706c33337a5f6e305f673176335f63306e677275336e63335f30665f357175347233355f32343932396334357d'"
      ]
     },
     "execution_count": 28,
     "metadata": {},
     "output_type": "execute_result"
    }
   ],
   "source": [
    "plaintext[2:]"
   ]
  },
  {
   "cell_type": "code",
   "execution_count": 29,
   "id": "47a75a98",
   "metadata": {},
   "outputs": [
    {
     "name": "stdout",
     "output_type": "stream",
     "text": [
      "picoCTF{pl33z_n0_g1v3_c0ngru3nc3_0f_5qu4r35_24929c45}\n"
     ]
    }
   ],
   "source": [
    "#convert hex string to bytes so we can use the built in decode method\n",
    "bytes_obj = bytes.fromhex(plaintext[2:])\n",
    "result_string = bytes_obj.decode('ascii')\n",
    "print(result_string)"
   ]
  },
  {
   "cell_type": "markdown",
   "id": "0b479040",
   "metadata": {},
   "source": [
    "We did it!<br>\n",
    "We deciphered the secret message (the \"flag\") and got 400 juicy internet points using our mad math skills!<br>\n",
    "On this journey we learned:<br>\n",
    "- What hex is, how to convert from hex to decimal both manually and using the int(hexstr, 16) function, as well as how to convert from decimal to hex using the hex() function\n",
    "- Vieta's formula and how to use it\n",
    "- The limits of the default float type\n",
    "- How to deal with arbitrarily large numbers using the decimal module"
   ]
  },
  {
   "cell_type": "markdown",
   "id": "494478be",
   "metadata": {},
   "source": [
    "P.S: There might be faster or better ways to solve this problem. What we did in this notebook is actually much more general than it was needed for the problem (our implementation works for any 2 ints, and we only needed it to work for primes of a certain size).<br>\n",
    "Maybe some automatic tools would even solve this for you, but regardless, I hope you found this interesting and you enjoyed the process :)"
   ]
  }
 ],
 "metadata": {
  "kernelspec": {
   "display_name": "Python 3 (ipykernel)",
   "language": "python",
   "name": "python3"
  },
  "language_info": {
   "codemirror_mode": {
    "name": "ipython",
    "version": 3
   },
   "file_extension": ".py",
   "mimetype": "text/x-python",
   "name": "python",
   "nbconvert_exporter": "python",
   "pygments_lexer": "ipython3",
   "version": "3.9.13"
  }
 },
 "nbformat": 4,
 "nbformat_minor": 5
}
